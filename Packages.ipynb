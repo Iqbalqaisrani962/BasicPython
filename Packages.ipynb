{
 "cells": [
  {
   "attachments": {},
   "cell_type": "markdown",
   "metadata": {},
   "source": [
    "## Packages\n",
    "- First of all, remember a package is a directory and the name of the package is the name of the directory. \n",
    "- We create our directory with the name \"_packageDemo_\". \n",
    "- Inside this we create sub-directories \"_package1_\" and \"_package2_\".\n",
    "- The packageDemo, package1, and package2 directory needs to contain a file with the name '_ _ init _ _.py'. To keep things simple, we left these file empty.\n",
    "- Now we can put all of the Python files which will be the modules into these directory. We create 3 different modules named arithmetic, comparison and bitcompare, containing our function definitions.\n",
    "- We put arithmetic module in package1(sub-package), and place the comparison and bitcompare module in package2 (sub-package)\n",
    "\n",
    "### Hierarchy:\n",
    " - **packageDemo**\n",
    "     - `__init__.py`\n",
    " \n",
    "     - **package1**    \n",
    "         - `___init__.py`    \n",
    "         - `arithmetic.py` \n",
    "     \n",
    "     - **package2**    \n",
    "         - `__init__.py`\n",
    "         - `comparison.py`\n",
    "         - `bitcompare.py`"
   ]
  },
  {
   "cell_type": "code",
   "execution_count": 8,
   "metadata": {},
   "outputs": [
    {
     "name": "stdout",
     "output_type": "stream",
     "text": [
      "3 is greater than 2\n",
      "5 is greater than 3\n"
     ]
    },
    {
     "data": {
      "text/plain": [
       "2"
      ]
     },
     "execution_count": 8,
     "metadata": {},
     "output_type": "execute_result"
    }
   ],
   "source": [
    "# first way to import package and modules\n",
    "import packageDemo.Package1.arithmetic\n",
    "packageDemo.Package1.arithmetic.myAdd(2,3)\n",
    "\n",
    "\n",
    "# second way to import package and modules\n",
    "import packageDemo.Package1.arithmetic as abc\n",
    "abc.mySub(10,3)\n",
    "\n",
    "\n",
    "# third way to import package and modules\n",
    "from packageDemo.Package1 import arithmetic\n",
    "arithmetic.myMul(2,3)\n",
    "arithmetic.myDiv(3,1)\n",
    "\n",
    "\n",
    "# fourth way to import package and modules\n",
    "from packageDemo.Package2.comparision import *\n",
    "com(2,3)\n",
    "com(5,3)\n",
    "\n",
    "\n",
    "# fifth way to import package and modules\n",
    "from packageDemo.Package1 import arithmetic as a\n",
    "a.myMul(2,3)\n",
    "a.myDiv(3,1)\n"
   ]
  }
 ],
 "metadata": {
  "kernelspec": {
   "display_name": "Python 3",
   "language": "python",
   "name": "python3"
  },
  "language_info": {
   "codemirror_mode": {
    "name": "ipython",
    "version": 3
   },
   "file_extension": ".py",
   "mimetype": "text/x-python",
   "name": "python",
   "nbconvert_exporter": "python",
   "pygments_lexer": "ipython3",
   "version": "3.10.8"
  },
  "orig_nbformat": 4,
  "vscode": {
   "interpreter": {
    "hash": "c938f314aa5630f5fcf3b4aad588f4edd0dbe140357325e666a8226cee1b2bf6"
   }
  }
 },
 "nbformat": 4,
 "nbformat_minor": 2
}
