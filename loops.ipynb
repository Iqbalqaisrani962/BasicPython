{
 "cells": [
  {
   "attachments": {},
   "cell_type": "markdown",
   "metadata": {},
   "source": [
    "# Loops\n",
    "#### While Loop\n",
    "- Break (Come out of while if condition is true)\n",
    "- Continue (Come out of current iteration if condition is true)\n",
    "- else (When loop ends manually not by break statement)\n",
    "- nested loop (Loop inside a loop)"
   ]
  },
  {
   "cell_type": "code",
   "execution_count": 8,
   "metadata": {},
   "outputs": [
    {
     "name": "stdout",
     "output_type": "stream",
     "text": [
      "93326215443944152681699238856266700490715968264381621468592963895217599993229915608941463976156518286253697920827223758251185210916864000000000000000000000000\n"
     ]
    }
   ],
   "source": [
    "num = int(input(\"Please enter a digit for the factorial\"))\n",
    "factorial = 1\n",
    "if num == 0:\n",
    "    print(\"The factorial of number {} is: {}\".format(num,1))\n",
    "else:\n",
    "    while num != 0:\n",
    "        factorial = factorial * num\n",
    "        num = num - 1\n",
    "print(factorial)"
   ]
  },
  {
   "cell_type": "code",
   "execution_count": 23,
   "metadata": {},
   "outputs": [
    {
     "name": "stdout",
     "output_type": "stream",
     "text": [
      "21\n"
     ]
    }
   ],
   "source": [
    "# Example 3: Input number from user and compute the sum 1+2+3+4+....+n\n",
    "num = int(input(\"Please enter a digit for the factorial\"))\n",
    "sum = 0\n",
    "i = 1\n",
    "if num == 1:\n",
    "    print(\"The sum of number {} is: {}\".format(num,1))\n",
    "else:\n",
    "    while i != num+1:\n",
    "        sum = sum + i\n",
    "        i = i + 1\n",
    "    print(sum)"
   ]
  },
  {
   "cell_type": "code",
   "execution_count": 26,
   "metadata": {},
   "outputs": [
    {
     "name": "stdout",
     "output_type": "stream",
     "text": [
      "Muhammad\n",
      "Iqbal\n",
      "From\n",
      "District\n",
      "Taunsa\n",
      "['Muhammad', 'Iqbal', 'From', 'District', 'Taunsa']\n"
     ]
    }
   ],
   "source": [
    "# Example 4: while loop iterates over the elements until a certain condition is met\n",
    "list1 = [\"Muhammad\", \"Iqbal\", \"From\", \"District\", \"Taunsa\"]\n",
    "i = 0\n",
    "while (i < len(list1)):\n",
    "    print(list1[i])\n",
    "    i = i+1\n",
    "print(list1)"
   ]
  },
  {
   "cell_type": "code",
   "execution_count": 27,
   "metadata": {},
   "outputs": [
    {
     "name": "stdout",
     "output_type": "stream",
     "text": [
      "List before iteraion ['Muhammad', 'Iqbal', 'From', 'District', 'Taunsa']\n",
      "This is the iteration no: 0\n",
      "This is the iteration no: 1\n",
      "This is the iteration no: 2\n",
      "This is the iteration no: 3\n",
      "This is the iteration no: 4\n",
      "List after iteration is: []\n"
     ]
    }
   ],
   "source": [
    "# Example 5: Using iterables inside a while loop expression\n",
    "list1 = [\"Muhammad\", \"Iqbal\", \"From\", \"District\", \"Taunsa\"]\n",
    "print(\"List before iteraion\", list1)\n",
    "i = 0\n",
    "while list1:\n",
    "    print(\"This is the iteration no:\",i)\n",
    "    i = i+1\n",
    "    list1.pop()\n",
    "print(\"List after iteration is:\", list1)"
   ]
  },
  {
   "cell_type": "code",
   "execution_count": 30,
   "metadata": {},
   "outputs": [],
   "source": [
    "# Example 6: Print Fibonacci series\n",
    "num = int(input(\"Enter count for the number you want of fibnocci:\"))\n",
    "n1, n2 = 0, 1\n",
    "sum = 0\n",
    "fib = []\n",
    "if num <= 0:\n",
    "    print(\"Please enter valid data\")\n",
    "else:\n",
    "    while i <= num:\n",
    "         fib.append(sum)\n",
    "         n1 = n2\n",
    "         n2 = sum\n",
    "         sum = n1 + n2\n",
    "         i+1\n",
    "    print(fib)\n",
    "        \n",
    "\n",
    "\n",
    "# # Example 6: Print Fibonacci series\n",
    "# n = int(input(\"Enter count of fibonacci numbers you want to print: \"))\n",
    "# i = 1\n",
    "# if n<1:\n",
    "#     fib = []       # In case user enter <0, the list is empty\n",
    "# elif n==1:\n",
    "#     fib = [0]      # If user enters 1, the list has the first fibonacci number\n",
    "# elif n==2:\n",
    "#     fib = [0, 1]   # If user enters 2, the list has the first two fibonacci numbers\n",
    "# elif n > 2:\n",
    "#     fib = [0, 1]   # if n>2, then we need to enter in while loop to compute the rest of the fibonacci numbers\n",
    "#     while (i < n-1):\n",
    "#         fib.append(fib[i] + fib[i-1])\n",
    "#         i += 1\n",
    "# print(\"Required Fibonacci series: \", fib)"
   ]
  },
  {
   "attachments": {},
   "cell_type": "markdown",
   "metadata": {},
   "source": [
    "#### Nested While Loop"
   ]
  },
  {
   "cell_type": "code",
   "execution_count": 3,
   "metadata": {},
   "outputs": [
    {
     "name": "stdout",
     "output_type": "stream",
     "text": [
      "Outer Loop: 4\n",
      "Inner Loop Ali\n",
      "Inner Loop name\n",
      "Inner Loop my\n",
      "Outer Loop: 3\n",
      "Inner Loop Ali\n",
      "Inner Loop name\n",
      "Inner Loop my\n",
      "Outer Loop: 2\n",
      "Inner Loop Ali\n",
      "Inner Loop name\n",
      "Inner Loop my\n",
      "Outer Loop: 1\n",
      "Inner Loop Ali\n",
      "Inner Loop name\n",
      "Inner Loop my\n",
      "After Both the loops\n",
      "outer loop: []\n",
      "Inner Loop []\n"
     ]
    }
   ],
   "source": [
    "a = [1,2,3,4]\n",
    "while a:\n",
    "    print(\"Outer Loop:\", a.pop())\n",
    "    b = ['my', 'name', 'Ali']\n",
    "    while b:\n",
    "        print(\"Inner Loop\", b.pop())\n",
    "print(\"After Both the loops\", )\n",
    "print(\"outer loop:\", a)\n",
    "print(\"Inner Loop\", b)"
   ]
  },
  {
   "attachments": {},
   "cell_type": "markdown",
   "metadata": {},
   "source": [
    "#### Break and Continue"
   ]
  },
  {
   "cell_type": "code",
   "execution_count": 5,
   "metadata": {},
   "outputs": [
    {
     "name": "stdout",
     "output_type": "stream",
     "text": [
      "Outer Loop: 4\n"
     ]
    },
    {
     "ename": "KeyboardInterrupt",
     "evalue": "",
     "output_type": "error",
     "traceback": [
      "\u001b[1;31m---------------------------------------------------------------------------\u001b[0m",
      "\u001b[1;31mKeyboardInterrupt\u001b[0m                         Traceback (most recent call last)",
      "Cell \u001b[1;32mIn [5], line 5\u001b[0m\n\u001b[0;32m      3\u001b[0m \u001b[39mprint\u001b[39m(\u001b[39m\"\u001b[39m\u001b[39mOuter Loop:\u001b[39m\u001b[39m\"\u001b[39m, a\u001b[39m.\u001b[39mpop())\n\u001b[0;32m      4\u001b[0m b \u001b[39m=\u001b[39m [\u001b[39m'\u001b[39m\u001b[39mmy\u001b[39m\u001b[39m'\u001b[39m, \u001b[39m'\u001b[39m\u001b[39mname\u001b[39m\u001b[39m'\u001b[39m, \u001b[39m'\u001b[39m\u001b[39mAli\u001b[39m\u001b[39m'\u001b[39m]\n\u001b[1;32m----> 5\u001b[0m \u001b[39mwhile\u001b[39;00m b:\n\u001b[0;32m      6\u001b[0m     \u001b[39mif\u001b[39;00m (b \u001b[39m==\u001b[39m \u001b[39m'\u001b[39m\u001b[39mName\u001b[39m\u001b[39m'\u001b[39m):\n\u001b[0;32m      7\u001b[0m         \u001b[39mbreak\u001b[39;00m\n",
      "\u001b[1;31mKeyboardInterrupt\u001b[0m: "
     ]
    }
   ],
   "source": [
    "a = [1,2,3,4]\n",
    "while a:\n",
    "    print(\"Outer Loop:\", a.pop())\n",
    "    b = ['my', 'name', 'Ali']\n",
    "    while b:\n",
    "        if (b == 'Name'):\n",
    "            break\n",
    "            print(\"Inner Loop\", b.pop())      \n",
    "print(\"After Both the loops\", )\n",
    "print(\"outer loop:\", a)\n",
    "print(\"Inner Loop\", b)"
   ]
  },
  {
   "attachments": {},
   "cell_type": "markdown",
   "metadata": {},
   "source": [
    "#### Iterables and Iterators\n",
    "- An `Iterable` in Python is an object that is capable of returning its members one at a time, and therefore, can be used in an iteration. Lists, Tuples, Sets and Dictionaries are iterables.\n",
    "- An `Iterator` in Python is an object that is used to iterate over iterable objects\n",
    "    - To initialize an iterator we pass an iterable object to Python built-in function `iter()`\n",
    "    - The `iter()` function returns an iterator for that iterable object. \n",
    "    - Later we use the Python built-in `next()` function to iterate over the elements of that iterable\n",
    "- The Python built-in `next()` function is passed the iterator of the iterable object returned by the  `iter()` function\n",
    "- Every time `next()` is called it return the next item from its associated iterable object\n",
    "- The `next()` function keeps moving from item to item in the iterator"
   ]
  },
  {
   "cell_type": "code",
   "execution_count": 13,
   "metadata": {},
   "outputs": [
    {
     "name": "stdout",
     "output_type": "stream",
     "text": [
      "<list_iterator object at 0x000002A27CE92D10>\n",
      "<tuple_iterator object at 0x000002A27DF81AB0>\n",
      "<set_iterator object at 0x000002A27E8D1880>\n",
      "<dict_keyiterator object at 0x000002A27CD7EF20>\n",
      "banana\n",
      "mango\n",
      "grapes\n",
      "mango\n"
     ]
    }
   ],
   "source": [
    "# Creating list iterator from a list iterable using the iter() method\n",
    "mylist = ['banana', 'mango', 'grapes']\n",
    "mylist2 = ('mango', 'grapes')\n",
    "mylist3 = {'mango', 'grapes'}\n",
    "mylist4 = {'mango': 'grapes'}\n",
    "iterator_mylist = iter(mylist)\n",
    "iterator_mylist2 = iter(mylist2)\n",
    "iterator_mylist3 = iter(mylist3)\n",
    "iterator_mylist4 = iter(mylist4)\n",
    "print(iterator_mylist)\n",
    "print(iterator_mylist2)\n",
    "print(iterator_mylist3)\n",
    "print(iterator_mylist4)\n",
    "print(next(iterator_mylist))\n",
    "print(next(iterator_mylist2))\n",
    "print(next(iterator_mylist3))\n",
    "print(next(iterator_mylist4))"
   ]
  },
  {
   "attachments": {},
   "cell_type": "markdown",
   "metadata": {},
   "source": [
    "#### For Loop\n",
    "- Let us see behind the curtain (How the above for loop works):\n",
    "    - Calls `iter()` to obtain an iterator for mylist\n",
    "    - Calls `next()` repeatedly to obtain items from the iterator object\n",
    "    - Terminate the for loop when `next()` raises a StopIteration exception"
   ]
  },
  {
   "cell_type": "code",
   "execution_count": 14,
   "metadata": {},
   "outputs": [
    {
     "name": "stdout",
     "output_type": "stream",
     "text": [
      "banana\n",
      "mango\n",
      "grapes\n"
     ]
    }
   ],
   "source": [
    "for myList5 in mylist:\n",
    "    print(myList5)"
   ]
  },
  {
   "attachments": {},
   "cell_type": "markdown",
   "metadata": {},
   "source": [
    "#### Using `range()` Function in `for` Loops\n",
    "- The `range()` method is used to create a range object, containing sequence of numbers that can be iterated over using a `for` loop.\n",
    "- It can be used in 3 ways:\n",
    "* `range(n)` - Creates a sequence of numbers from `0` to `n-1`\n",
    "* `range(a, b)` - Creates a sequence of numbers from `a` to `b-1`\n",
    "* `range(a, b, step)` - Creates a sequence of numbers from `a` to `b-1` with increment/decrement of `step`"
   ]
  },
  {
   "cell_type": "code",
   "execution_count": 15,
   "metadata": {},
   "outputs": [
    {
     "name": "stdout",
     "output_type": "stream",
     "text": [
      "range(0, 10)\n",
      "[0, 1, 2, 3, 4, 5, 6, 7, 8, 9]\n",
      "[-5, -4, -3, -2, -1, 0, 1]\n",
      "[20, 17, 14, 11, 8, 5]\n"
     ]
    }
   ],
   "source": [
    "print(range(10))    # returns an iterator object containing integer values\n",
    "\n",
    "print(list(range(10)))\n",
    "\n",
    "print(list(range(-5, 2, 1)))\n",
    "\n",
    "print(list(range(20, 2, -3)))"
   ]
  },
  {
   "attachments": {},
   "cell_type": "markdown",
   "metadata": {},
   "source": [
    "#### Using  `enumerate()` Function in `for` Loops\n",
    "- The `enumerate()` method is passed an iterable object and returns an enumerate object containing tuples, each tuple having two values:\n",
    "```\n",
    "(index, data_at_that_index_in_the_iterable)\n",
    "```\n",
    "- It is is useful for obtaining an indexed list:\n",
    "```\n",
    "       (0, seq[0]), (1, seq[1]), (2, seq[2]), ..."
   ]
  },
  {
   "cell_type": "code",
   "execution_count": 19,
   "metadata": {},
   "outputs": [
    {
     "name": "stdout",
     "output_type": "stream",
     "text": [
      "<class 'enumerate'>\n",
      "[(0, 'arif'), (1, 'hadeed'), (2, 'mujahid')]\n",
      "{0: 'arif', 1: 'hadeed', 2: 'mujahid'}\n",
      "The value at position 0 is Rauf.\n",
      "The value at position 1 is Arif.\n",
      "The value at position 2 is Maaz.\n",
      "The value at position 3 is Hadeed.\n",
      "The value at position 4 is Muhahid.\n",
      "The value at position 5 is Mohid.\n"
     ]
    }
   ],
   "source": [
    "mylist = ['arif', 'hadeed', 'mujahid']\n",
    "rv = enumerate(mylist)\n",
    "print(type(rv))\n",
    "\n",
    "\n",
    "mylist = ['arif', 'hadeed', 'mujahid']\n",
    "print(list(enumerate(mylist)))\n",
    "\n",
    "\n",
    "mylist = ['arif', 'hadeed', 'mujahid']\n",
    "print(dict(enumerate(mylist)))\n",
    "\n",
    "\n",
    "friends = ['Rauf', 'Arif', 'Maaz', 'Hadeed', 'Muhahid', 'Mohid']\n",
    "\n",
    "for i, name in enumerate(friends): \n",
    "    print('The value at position {} is {}.'.format(i, friends[i]))"
   ]
  }
 ],
 "metadata": {
  "kernelspec": {
   "display_name": "Python 3",
   "language": "python",
   "name": "python3"
  },
  "language_info": {
   "codemirror_mode": {
    "name": "ipython",
    "version": 3
   },
   "file_extension": ".py",
   "mimetype": "text/x-python",
   "name": "python",
   "nbconvert_exporter": "python",
   "pygments_lexer": "ipython3",
   "version": "3.10.8"
  },
  "orig_nbformat": 4,
  "vscode": {
   "interpreter": {
    "hash": "c938f314aa5630f5fcf3b4aad588f4edd0dbe140357325e666a8226cee1b2bf6"
   }
  }
 },
 "nbformat": 4,
 "nbformat_minor": 2
}
