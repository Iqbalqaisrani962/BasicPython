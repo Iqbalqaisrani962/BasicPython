{
 "cells": [
  {
   "attachments": {},
   "cell_type": "markdown",
   "metadata": {},
   "source": [
    "# Lists"
   ]
  },
  {
   "cell_type": "code",
   "execution_count": 1,
   "metadata": {},
   "outputs": [
    {
     "name": "stdout",
     "output_type": "stream",
     "text": [
      "[1, 2, 3, 4, 5]\n",
      "[3.7, 6.5, 3.8, 7.95]\n",
      "['hello', 'this', 'F', 'good show']\n",
      "[True, False, True]\n",
      "[]\n",
      "<class 'list'>\n"
     ]
    }
   ],
   "source": [
    "# It allows us to store elements of different data types (number, boolean, string, list) in one container.\n",
    "\n",
    "list1 = [1,2,3,4,5]   #list of integers\n",
    "print(list1)\n",
    "\n",
    "list2 = [3.7, 6.5, 3.8, 7.95 ]   #list of floats\n",
    "print(list2)\n",
    "\n",
    "list3 = [\"hello\", \"this\", \"F\", \"good show\"]   #list of strings\n",
    "print(list3)\n",
    "\n",
    "list4 = [True, False, True]   #list of boolean\n",
    "print(list4)\n",
    "\n",
    "list5 = []   #this will create an empty list\n",
    "print(list5)\n",
    "\n",
    "print(type(list5))"
   ]
  },
  {
   "cell_type": "code",
   "execution_count": 2,
   "metadata": {},
   "outputs": [
    {
     "name": "stdout",
     "output_type": "stream",
     "text": [
      "[1, 2, 3, 4, 5]\n",
      "['Arif', 30, 5.5, [10, 'rauf']]\n",
      "[]\n"
     ]
    }
   ],
   "source": [
    "#printing multiple lists\n",
    "list1 = [1,2,3,4,5]\n",
    "list2 = [\"Arif\", 30, 5.5, [10,'rauf']]\n",
    "empty_list = []\n",
    "\n",
    "print(list1, list2, empty_list, sep='\\n')"
   ]
  },
  {
   "cell_type": "code",
   "execution_count": 5,
   "metadata": {},
   "outputs": [
    {
     "name": "stdout",
     "output_type": "stream",
     "text": [
      "list1:  ['Arif', 30, 5.5]\n"
     ]
    },
    {
     "data": {
      "text/plain": [
       "(1790852385600, 1790852552704, 1790852255424, False, True, False, False)"
      ]
     },
     "execution_count": 5,
     "metadata": {},
     "output_type": "execute_result"
    }
   ],
   "source": [
    "# Lists are heterogeneous\n",
    "list1 = [\"Arif\", 30, 5.5]\n",
    "print(\"list1: \", list1)\n",
    "\n",
    "# lists are ordered\n",
    "x = [1, 2, 3]\n",
    "y = [1, 2, 3]\n",
    "z = [1, 3, 2]\n",
    "id(x), id(y), id(z), x is y, x==y, x is z, x == z"
   ]
  },
  {
   "cell_type": "code",
   "execution_count": 9,
   "metadata": {},
   "outputs": [
    {
     "name": "stdout",
     "output_type": "stream",
     "text": [
      "numbers:  [10, 20, 555, 40, 50]\n",
      "['Arif', 'Rauf', 'Hadeed', 'Arif', 'Mujahid']\n"
     ]
    },
    {
     "data": {
      "text/plain": [
       "([1, 2, 3, [4, 5], [6, 7, 8, 9], 10, 11],\n",
       " [1, (2, 3), [4, 5, [6, 7, 8, [9, {10, 11}]]]])"
      ]
     },
     "execution_count": 9,
     "metadata": {},
     "output_type": "execute_result"
    }
   ],
   "source": [
    "# lists are mutables\n",
    "\n",
    "numbers = [10, 20, 30, 40, 50]\n",
    "numbers[2] = 555\n",
    "print(\"numbers: \", numbers)\n",
    "\n",
    "\n",
    "\n",
    "\n",
    "# lists allow duplicate elements\n",
    "names = ['Arif', 'Rauf', 'Hadeed', 'Arif', 'Mujahid']\n",
    "print(names)\n",
    "\n",
    "\n",
    "# A list having two sub-lists within it\n",
    "a = [1,2,3,[4,5],[6,7,8,9],10,11]\n",
    "\n",
    "# A list having a sublist, which is further having a sublist and that again having a sublist\n",
    "b = [1,(2,3),[4,5,[6,7,8,[9,{10,11}]]]]\n",
    "a, b"
   ]
  },
  {
   "cell_type": "markdown",
   "metadata": {},
   "source": [
    "#### Packing and unpacking lists"
   ]
  },
  {
   "cell_type": "code",
   "execution_count": 14,
   "metadata": {},
   "outputs": [
    {
     "name": "stdout",
     "output_type": "stream",
     "text": [
      "learning with Arif\n",
      "<class 'str'>\n",
      "['learning', 'is', 'fun', 'with', 'Arif']\n",
      "list myList2 type <class 'list'>\n",
      "list tuple1 type <class 'tuple'>\n"
     ]
    }
   ],
   "source": [
    "# you can unpack list elements\n",
    "mylist = ['learning', 'is', 'fun', 'with', 'Arif']\n",
    "a, b, c, d, e = mylist # the number of variables on the left must match the number of elements in the list\n",
    "print (a, d, e)\n",
    "print(type(a))\n",
    "\n",
    "\n",
    "# you can pack individual elements to a list\n",
    "tuple1 = a,b,c,d,e\n",
    "mylist2 = list(tuple1)\n",
    "print(mylist2)\n",
    "print(\"list myList2 type\", type(mylist2))\n",
    "print(\"list tuple1 type\", type(tuple1))\n",
    "\n"
   ]
  },
  {
   "attachments": {},
   "cell_type": "markdown",
   "metadata": {},
   "source": [
    "#### Different ways to access elements of a list\n",
    "- Since Lists like Strings are of type sequence, and any element within a sequence can be accessed by entrying an index within square brackets. \n",
    "- Similarly, if we want to find out the index of a specific item/element, we can use the `index()` method of List class"
   ]
  },
  {
   "cell_type": "code",
   "execution_count": 18,
   "metadata": {},
   "outputs": [
    {
     "name": "stdout",
     "output_type": "stream",
     "text": [
      "[10, 'rauf']\n",
      "i\n",
      "rauf\n",
      "[10, 'rauf']\n",
      "5.5\n",
      "\n",
      "mylist:  [27, 4.5, 'arif', 64, 'hadeed', 19, 'arif']\n",
      "0\n"
     ]
    }
   ],
   "source": [
    "#You can access elements of list using indexing which starts from zero\n",
    "list1 = [\"Arif\", 30, 5.5, [10,'rauf']]\n",
    "print(list1[3])\n",
    "\n",
    "#accessing Nested list element\n",
    "print(list1[0][2])              #accessing third element of string at index 0\n",
    "print(list1[3][1])              #accessing second element of Nested list\n",
    "\n",
    "\n",
    "\n",
    "#Negative indexing starts looking at the list from the right hand side\n",
    "list1 = [\"Arif\", 30, 5.5, [10,'rauf']]\n",
    "print(list1[-1])                #accessing last element\n",
    "print(list1[-2])                #accessing second last element\n",
    "\n",
    "\n",
    "# index(value) method is used when you know the list element and wants to get its index\n",
    "# index(value) method returns the index of the first matched item with its only argument\n",
    "mylist = [27, 4.5, 'arif', 64, 'hadeed', 19, 'arif']\n",
    "print(\"\\nmylist: \", mylist)\n",
    "mylist.index('arif')\n",
    "print(mylist.index(27))"
   ]
  },
  {
   "attachments": {},
   "cell_type": "markdown",
   "metadata": {},
   "source": [
    "#### Slicing Lists\n",
    "- Like anyother sequence object we can perform slicing with lists as well.\n",
    "- Slicing is the process of obtaining a portion of a list by using its indices.\n",
    "- Given a list, we can use the following template to slice it and obtain a sublist:\n",
    "```\n",
    "mylist[start:end:step]"
   ]
  },
  {
   "cell_type": "code",
   "execution_count": 19,
   "metadata": {},
   "outputs": [
    {
     "name": "stdout",
     "output_type": "stream",
     "text": [
      "['a', 'b', 'c', 'd', 'e', 'f', 'g', 'h', 'i']\n",
      "['a', 'b', 'c', 'd', 'e', 'f', 'g', 'h', 'i']\n",
      "['a', 'c', 'e', 'g', 'i']\n",
      "['a', 'd', 'g']\n",
      "['i', 'h', 'g', 'f', 'e', 'd', 'c', 'b', 'a']\n",
      "['f', 'e', 'd', 'c']\n",
      "[]\n",
      "['i', 'g', 'e', 'c', 'a']\n"
     ]
    }
   ],
   "source": [
    "# Slicing by using strides\n",
    "list1 = ['a','b','c','d','e','f','g','h','i']\n",
    "print(list1[::])  # A default step of 1\n",
    "print(list1[::1])  # A step of 1\n",
    "print(list1[::2])  # A step of 2\n",
    "print(list1[::3])  # A step of 3\n",
    "\n",
    "\n",
    "# Reverse slicing\n",
    "list1 = ['a','b','c','d','e','f','g','h','i']\n",
    "print(list1[::-1]) # Take 1 step back each time\n",
    "print(list1[5:1:-1]) # Take 1 step back each time\n",
    "#if start is less than end in case of a negative step, it will return empty string\n",
    "print(list1[2:10:-1])\n",
    "print(list1[::-2]) # Take 2 steps back"
   ]
  },
  {
   "attachments": {},
   "cell_type": "markdown",
   "metadata": {},
   "source": [
    "#### List Concatenation (`+`) and Repetition (`*`)"
   ]
  },
  {
   "cell_type": "code",
   "execution_count": 23,
   "metadata": {},
   "outputs": [
    {
     "name": "stdout",
     "output_type": "stream",
     "text": [
      "['fruits', 'bread', 'veggies', 'meat', 'spices', 'burger']\n",
      "[1, 2, 3, 4, 5, 6, [7, 8]]\n",
      "['Arif', 'Hadeed', 'Mujahid', 'Arif', 'Hadeed', 'Mujahid', 'Arif', 'Hadeed', 'Mujahid']\n"
     ]
    }
   ],
   "source": [
    "# Add some elements to the end of an existing list using concatenation operator\n",
    "a = [1,2,3]\n",
    "b = a + [4,5]\n",
    "# Add some elements to the beginning of an existing list using concatenation operator\n",
    "c = [0] + b\n",
    "a, b, c\n",
    "\n",
    "\n",
    "\n",
    "# use + operator to concatenate two lists\n",
    "food_items1 = ['fruits', 'bread', 'veggies'] \n",
    "food_items2 = ['meat', 'spices', 'burger']\n",
    "food = food_items1 + food_items2\n",
    "print(food)\n",
    "\n",
    "\n",
    "num1 = [1,2,3]\n",
    "num2 = num1 + [4, 5, 6, [7, 8]]\n",
    "print (num2)\n",
    "\n",
    "\n",
    "# use list * n syntax to create large lists by repeating the list n times\n",
    "name = ['Arif', 'Hadeed', 'Mujahid']\n",
    "a = name * 3\n",
    "print(a)"
   ]
  },
  {
   "attachments": {},
   "cell_type": "markdown",
   "metadata": {},
   "source": [
    "#### Modifying/Adding elements to a list using [ ] operator"
   ]
  },
  {
   "cell_type": "code",
   "execution_count": 27,
   "metadata": {},
   "outputs": [
    {
     "data": {
      "text/plain": [
       "['math', 'stat', 'machine learning', 2, 5, 7]"
      ]
     },
     "execution_count": 27,
     "metadata": {},
     "output_type": "execute_result"
    }
   ],
   "source": [
    "mylist = ['data science', 'machine learning', 2, 5, 7]\n",
    "# Let us change the second element of this list\n",
    "mylist[1] = 'big data'\n",
    "mylist\n",
    "\n",
    "# We can use the slice index to modify multiple list elements in one go\n",
    "mylist = ['data science', 'machine learning', 2, 5, 7]\n",
    "mylist[0:2] = ['english', 'urdu'] # Note we are replacing two elements with two elements\n",
    "mylist\n",
    "\n",
    "\n",
    "# We can replace more number of elements with lesser number of elements in a list\n",
    "mylist = ['data science', 'machine learning', 2, 5, 7]\n",
    "mylist[0:2] = ['BIG DATA'] # Note we are replacing two elements with one element\n",
    "mylist\n",
    "\n",
    "mylist = ['data science', 'machine learning', 2, 5, 7]\n",
    "mylist[0:1] = ['math', 'stat'] # Note we using a slice instead of single index, although it means just zero\n",
    "mylist"
   ]
  },
  {
   "attachments": {},
   "cell_type": "markdown",
   "metadata": {},
   "source": [
    "#### Adding elements to a list using `list.append(value)` method\n",
    "- `list.append(value)` method is used when you want to add a single element at the end of the list\n",
    "- It is passed one argument which is the element to be inserted and returns none/void"
   ]
  },
  {
   "cell_type": "code",
   "execution_count": 29,
   "metadata": {},
   "outputs": [
    {
     "data": {
      "text/plain": [
       "[2, 4, 6, 8, [4.631, 'hello']]"
      ]
     },
     "execution_count": 29,
     "metadata": {},
     "output_type": "execute_result"
    }
   ],
   "source": [
    "list1 = [2, 4, 6, 8]\n",
    "list1.append(4.631)\n",
    "list1.append('hello')\n",
    "list1\n",
    "\n",
    "# You cannot add multiple elements using append\n",
    "# If you try it will actually add those elements as a sub-list\n",
    "list1 = [2, 4, 6, 8]\n",
    "list1.append([4.631, 'hello'])\n",
    "list1"
   ]
  },
  {
   "attachments": {},
   "cell_type": "markdown",
   "metadata": {},
   "source": [
    "#### Adding elements to a list using `list.extend(sublist)` method\n",
    "- `list.extend(sublist)` method is used when you want to add multiple elements at the end of the list\n",
    "- It is passed a list to be added at the end and returns none/void"
   ]
  },
  {
   "cell_type": "code",
   "execution_count": 31,
   "metadata": {},
   "outputs": [
    {
     "data": {
      "text/plain": [
       "['apple', 'banana', 'cherry', 'potato', 'tomato', 'radish']"
      ]
     },
     "execution_count": 31,
     "metadata": {},
     "output_type": "execute_result"
    }
   ],
   "source": [
    "list1 = [2, 4, 6, 8]\n",
    "list1.extend([4.631, 'hello'])\n",
    "list1\n",
    "\n",
    "# another example of extend()\n",
    "fruits = ['apple', 'banana', 'cherry']\n",
    "vegs = ['potato', 'tomato', 'radish']\n",
    "fruits.extend(vegs)\n",
    "fruits"
   ]
  },
  {
   "attachments": {},
   "cell_type": "markdown",
   "metadata": {},
   "source": [
    "#### Adding elements to a list using `list.insert(index, value)` method\n",
    "- `list.insert(index, value)` method is used when you want to add an element at a specific location in the list\n",
    "- It is passed index and value and returns none/void"
   ]
  },
  {
   "cell_type": "code",
   "execution_count": 33,
   "metadata": {},
   "outputs": [
    {
     "name": "stdout",
     "output_type": "stream",
     "text": [
      "\n",
      "Original family list:  ['Farooq', 'Rauf', 'Hadeed']\n",
      "After insert:  ['Farooq', 'Rauf', 'Arif', 'Hadeed']\n"
     ]
    },
    {
     "data": {
      "text/plain": [
       "['Farooq', 'Rauf', ['Maaz', 'Mohid'], 'Arif']"
      ]
     },
     "execution_count": 33,
     "metadata": {},
     "output_type": "execute_result"
    }
   ],
   "source": [
    "myfamily = [\"Farooq\", 'Rauf', 'Hadeed']\n",
    "print(\"\\nOriginal family list: \", myfamily)\n",
    "myfamily.insert(2,'Arif')\n",
    "print(\"After insert: \", myfamily)\n",
    "\n",
    "\n",
    "# you can insert a sub-list\n",
    "myfamily = [\"Farooq\", 'Rauf', 'Arif']\n",
    "myfamily.insert(2,['Maaz','Mohid'])\n",
    "myfamily"
   ]
  },
  {
   "attachments": {},
   "cell_type": "markdown",
   "metadata": {},
   "source": [
    "#### Removing element from a List using `list.pop(index)` method\n",
    "- The `list.pop()` method without any argument removes the last item (right most element) in the list and returns it\n",
    "- If given an argument/index, will remove that item from list whose index is given and returns it"
   ]
  },
  {
   "cell_type": "code",
   "execution_count": 36,
   "metadata": {},
   "outputs": [
    {
     "name": "stdout",
     "output_type": "stream",
     "text": [
      "Original list:  ['learning', 'is', 'fun', 'with', 'arif', 'butt']\n",
      "\n",
      "After pop():  ['learning', 'is', 'fun', 'with', 'arif']\n",
      "Element popped is:  butt\n",
      "\n",
      "After pop(2):  ['learning', 'is', 'with', 'arif']\n",
      "Element popped is:  fun\n",
      "\n",
      "After pop(-2):  ['learning', 'is', 'arif']\n",
      "Element popped is:  with\n"
     ]
    }
   ],
   "source": [
    "list1 = ['learning', 'is', 'fun', 'with', 'arif', 'butt']\n",
    "print(\"Original list: \", list1)\n",
    "x  = list1.pop()\n",
    "print(\"\\nAfter pop(): \", list1)\n",
    "print(\"Element popped is: \", x)\n",
    "\n",
    "\n",
    "\n",
    "y = list1.pop(2)\n",
    "print(\"\\nAfter pop(2): \", list1)\n",
    "print(\"Element popped is: \", y)\n",
    "\n",
    "\n",
    "\n",
    "z = list1.pop(-2)\n",
    "print(\"\\nAfter pop(-2): \", list1)\n",
    "print(\"Element popped is: \", z)"
   ]
  },
  {
   "attachments": {},
   "cell_type": "markdown",
   "metadata": {},
   "source": [
    "#### Removing element from a list using `list.remove(val)` method\n",
    "- The `list.remove(value)` method is used when you want to remove a specific element without returning it\n",
    "- It is passed exactly one argument, which is the value to be removed and returns none/void\n",
    "- In case of multiple occurrances, it removes the first occurrence of the element"
   ]
  },
  {
   "cell_type": "code",
   "execution_count": 37,
   "metadata": {},
   "outputs": [
    {
     "name": "stdout",
     "output_type": "stream",
     "text": [
      "\n",
      "Original list:  ['learning', 'is', 'fun', 'with', 'arif', 'butt', 'fun']\n",
      "After remove('fun'):  ['learning', 'is', 'with', 'arif', 'butt', 'fun']\n",
      "Return value of remove() is:  None\n"
     ]
    }
   ],
   "source": [
    "list2 = ['learning', 'is', 'fun', 'with', 'arif', 'butt', 'fun']\n",
    "print(\"\\nOriginal list: \", list2)\n",
    "\n",
    "x = list2.remove('fun')\n",
    "\n",
    "print(\"After remove('fun'): \", list2)\n",
    "print(\"Return value of remove() is: \", x)"
   ]
  },
  {
   "cell_type": "code",
   "execution_count": 38,
   "metadata": {},
   "outputs": [
    {
     "name": "stdout",
     "output_type": "stream",
     "text": [
      "\n",
      "After clear() the list becomes empty:  []\n"
     ]
    }
   ],
   "source": [
    "# Using `list.clear()` method to remove all the list elements\n",
    "list2 = ['learning', 'is', 'fun', 'with', 'arif', 'butt']\n",
    "list2.clear()\n",
    "print(\"\\nAfter clear() the list becomes empty: \", list2)"
   ]
  },
  {
   "cell_type": "code",
   "execution_count": 41,
   "metadata": {},
   "outputs": [
    {
     "name": "stdout",
     "output_type": "stream",
     "text": [
      "\n",
      "Original list [1, 2, 3, [53, 41, 99, 12], 8, 9]\n",
      "After del list1[3] the list becomes [1, 2, 3, 8, 9]\n"
     ]
    }
   ],
   "source": [
    "#### Using `del` Keyword to delete one or more list items or delete the list entirely from memory\n",
    "# use del keyword to delete one or more list items by using index or to delete the list entirely from memory\n",
    "list3 = [1,2,3,4,5,6,7,8,9]\n",
    "del list3[3:6]\n",
    "list3\n",
    "\n",
    "\n",
    "# use del keyword to delete one or more list items by using index or to delete the list entirely from memory\n",
    "list3 = [1,2,3,[53, 41, 99, 12], 8,9]\n",
    "print(\"\\nOriginal list\", list3)\n",
    "del list3[3]\n",
    "print(\"After del list1[3] the list becomes\", list3)\n",
    "\n",
    "\n",
    "#to delete entire list\n",
    "mylist = ['learning', 'is', 'fun', 'with', 'arif', 'butt']\n",
    "del mylist\n",
    "#mylist"
   ]
  },
  {
   "cell_type": "code",
   "execution_count": 42,
   "metadata": {},
   "outputs": [
    {
     "name": "stdout",
     "output_type": "stream",
     "text": [
      "<class 'str'>\n",
      "Original string:  Learning is fun and its type is:   <class 'str'>\n",
      "l1:  ['L', 'e', 'a', 'r', 'n', 'i', 'n', 'g', ' ', 'i', 's', ' ', 'f', 'u', 'n'] and its type is:   <class 'list'>\n"
     ]
    }
   ],
   "source": [
    "# Type Casting\n",
    "# convert a string into list using list()\n",
    "str1 = 'Learning is fun'    #this is a string\n",
    "print(type(str1))\n",
    "print(\"Original string: \", str1, \"and its type is:  \", type(str1))\n",
    "l1 = list(str1)\n",
    "print(\"l1: \", l1, \"and its type is:  \", type(l1))"
   ]
  },
  {
   "attachments": {},
   "cell_type": "markdown",
   "metadata": {},
   "source": [
    "#### Use `str.split()` to Split a List into Strings\n",
    "- Used to tokenize a string based on some delimiter, which can be stored in a list\n",
    "- It returns a list having tokens of the string based on spaces if no argument is passed"
   ]
  },
  {
   "cell_type": "code",
   "execution_count": 44,
   "metadata": {},
   "outputs": [
    {
     "data": {
      "text/plain": [
       "['Data S', 'ien', 'e is GR8 Degree']"
      ]
     },
     "execution_count": 44,
     "metadata": {},
     "output_type": "execute_result"
    }
   ],
   "source": [
    "str1 = 'Learning is fun'    #this is a string\n",
    "list1 = str1.split(' ')\n",
    "list1\n",
    "\n",
    "str2 = \"Data Science is GR8 Degree\"    #this is a string\n",
    "list2 = str2.split('c')\n",
    "list2"
   ]
  },
  {
   "cell_type": "markdown",
   "metadata": {},
   "source": [
    "#### Use `str.join()` to Join Strings into a List\n",
    "- It is the reverse of `str.split()` method, and is used to joing multiple strings by inserting the string in between on which this method is called"
   ]
  },
  {
   "cell_type": "code",
   "execution_count": 47,
   "metadata": {},
   "outputs": [
    {
     "name": "stdout",
     "output_type": "stream",
     "text": [
      "This is getting more and more interesting\n",
      "<class 'str'>\n",
      "This # is # getting # more # and # more # interesting\n",
      "<class 'str'>\n"
     ]
    }
   ],
   "source": [
    "list1 = ['This', 'is', 'getting', 'more', 'and', 'more', 'interesting']\n",
    "list1\n",
    "\n",
    "\n",
    "\n",
    "str2 = ' '.join(list1)\n",
    "print(str2)\n",
    "print(type(str2))\n",
    "\n",
    "\n",
    "delimiter = \" # \"\n",
    "str3 = delimiter.join(list1)\n",
    "print(str3)\n",
    "print(type(str3))"
   ]
  },
  {
   "cell_type": "code",
   "execution_count": 48,
   "metadata": {},
   "outputs": [
    {
     "name": "stdout",
     "output_type": "stream",
     "text": [
      "length of list:  7\n",
      "max element in list:  8\n",
      "min element in list:  0\n",
      "Sum of element in list:  30\n"
     ]
    }
   ],
   "source": [
    "list_num = [3, 8, 1, 6, 0, 8, 4]\n",
    "\n",
    "print(\"length of list: \", len(list_num))\n",
    "print(\"max element in list: \", max(list_num))\n",
    "print(\"min element in list: \",min(list_num))\n",
    "print(\"Sum of element in list: \",sum(list_num))"
   ]
  },
  {
   "attachments": {},
   "cell_type": "markdown",
   "metadata": {},
   "source": [
    "#### Simple Assignment (aliasing) vs Shallow Copy vs Deep Copy"
   ]
  },
  {
   "cell_type": "code",
   "execution_count": 49,
   "metadata": {},
   "outputs": [
    {
     "name": "stdout",
     "output_type": "stream",
     "text": [
      "ID of Old List: 1790852788608\n",
      "ID of New List: 1790852788608\n"
     ]
    }
   ],
   "source": [
    "list1 = [1, 2, 3, 4]\n",
    "list2 = list1\n",
    "\n",
    "# Both variables point to same memory object, so have the same ID\n",
    "print('ID of Old List:', id(list1))\n",
    "print('ID of New List:', id(list2))\n",
    "\n",
    "# If you modify an element of one object, the change will be visible in both\n",
    "list2[2] = 9\n",
    "print('\\nOld List:', list1)\n",
    "print('New List:', list2)"
   ]
  },
  {
   "attachments": {},
   "cell_type": "markdown",
   "metadata": {},
   "source": [
    "#### Shallow Copy\n",
    "- Shallow copy creates a new list object.\n",
    "- There are two ways of making a shallow copy\n",
    "    - On the right hand side of  `=` operator use slice operator\n",
    "    - Use `copy.copy()` method"
   ]
  },
  {
   "cell_type": "code",
   "execution_count": 55,
   "metadata": {},
   "outputs": [
    {
     "name": "stdout",
     "output_type": "stream",
     "text": [
      "ID of Old List: 1790852587712\n",
      "ID of New List: 1790852814592\n",
      "\n",
      "Old List: [1, 2, 3, 4]\n",
      "New List: [1, 2, 9, 4]\n",
      "ID of Old List: 1790852815808\n",
      "ID of New List: 1790852562048\n",
      "\n",
      "Old List: [1, 2, 3, 4]\n",
      "New List: [1, 2, 3, 'a']\n",
      "ID of Old List: 1790852813952\n",
      "ID of New List: 1790852814592\n",
      "\n",
      "Old List: [[1, 2, 3], [4, 5, 6], [7, 8, 'a']]\n",
      "New List: [[1, 2, 3], [4, 5, 6], [7, 8, 'a']]\n"
     ]
    }
   ],
   "source": [
    "# Shallow copy using slice operator while doing assignment\n",
    "list1 = [1, 2, 3, 4]\n",
    "list2 = list1[:]\n",
    "\n",
    "# Both variables point to different memory objects, so have the different ID\n",
    "print('ID of Old List:', id(list1))\n",
    "print('ID of New List:', id(list2))\n",
    "\n",
    "\n",
    "\n",
    "# If you modify an element of one object, the change will be not visible in both\n",
    "list2[2] = 9\n",
    "\n",
    "print('\\nOld List:', list1)\n",
    "print('New List:', list2)\n",
    "\n",
    "\n",
    "\n",
    "# Shallow copy using the `copy.copy()` method\n",
    "import copy\n",
    "list1 = [1, 2, 3, 4]\n",
    "list2 = copy.copy(list1)\n",
    "\n",
    "# Both variables point to different memory objects, so have different ID\n",
    "print('ID of Old List:', id(list1))\n",
    "print('ID of New List:', id(list2))\n",
    "\n",
    "# If you modify an element of one object, the change will not be visible in other\n",
    "list2[3] = 'a'\n",
    "\n",
    "print('\\nOld List:', list1)\n",
    "print('New List:', list2)\n",
    "\n",
    "\n",
    "\n",
    "import copy\n",
    "old_list = [[1, 2, 3], [4, 5, 6], [7, 8, 9]]\n",
    "new_list = copy.copy(old_list)\n",
    "\n",
    "# Both variables point to different memory object, having same references of original object elements\n",
    "print('ID of Old List:', id(old_list))\n",
    "print('ID of New List:', id(new_list))\n",
    "\n",
    "\n",
    "\n",
    "# If you modify an element of one object, the change will be visible in both\n",
    "new_list[2][2] = 'a'\n",
    "\n",
    "# See contents of both lists\n",
    "print('\\nOld List:', old_list)\n",
    "print('New List:', new_list)"
   ]
  },
  {
   "cell_type": "markdown",
   "metadata": {},
   "source": [
    "#### Deep Copy: Making a Copy of an Object using `copy.deepcopy()` Method\n",
    "- Deep copy creates a new object and recursively creates independent copy of original object and all its nested objects."
   ]
  },
  {
   "cell_type": "code",
   "execution_count": 57,
   "metadata": {},
   "outputs": [
    {
     "name": "stdout",
     "output_type": "stream",
     "text": [
      "ID of Old List: 1790852255424\n",
      "ID of New List: 1790852398528\n",
      "\n",
      "Old List: [[1, 2, 3], [4, 5, 6], [7, 8, 9]]\n",
      "New List: [[1, 2, 3], [4, 5, 6], [7, 8, 'a']]\n"
     ]
    }
   ],
   "source": [
    "import copy\n",
    "old_list = [[1, 2, 3], [4, 5, 6], [7, 8, 9]]\n",
    "new_list = copy.deepcopy(old_list)\n",
    "\n",
    "# Both variables point to different memory object, having their own object elements\n",
    "print('ID of Old List:', id(old_list))\n",
    "print('ID of New List:', id(new_list))\n",
    "\n",
    "\n",
    "# If you modify an element of one object, the change will be made only to that object element\n",
    "new_list[2][2] = 'a'\n",
    "\n",
    "# See contents of both lists\n",
    "print('\\nOld List:', old_list)\n",
    "print('New List:', new_list)"
   ]
  },
  {
   "attachments": {},
   "cell_type": "markdown",
   "metadata": {},
   "source": [
    "#### Custom Sorting using `list.sort()` Method"
   ]
  },
  {
   "cell_type": "code",
   "execution_count": 59,
   "metadata": {},
   "outputs": [
    {
     "name": "stdout",
     "output_type": "stream",
     "text": [
      "Original numbers list:  [3, 8, 1, 6, 0, 8, 4]\n",
      "Ascending Sort:  [0, 1, 3, 4, 6, 8, 8]\n",
      "Descending Sort:  [8, 8, 6, 4, 3, 1, 0]\n",
      "\n",
      "Original names list:  ['XYZ', 'ABC', 'MNO', 'ARIF']\n",
      "Ascending Sort:  ['ABC', 'ARIF', 'MNO', 'XYZ']\n",
      "Descending Sort:  ['XYZ', 'MNO', 'ARIF', 'ABC']\n"
     ]
    }
   ],
   "source": [
    "# Modifies list on which it is called and returns none/void\n",
    "list_num = [3, 8, 1, 6, 0, 8, 4]\n",
    "print(\"Original numbers list: \", list_num)\n",
    "\n",
    "list_num.sort()\n",
    "print(\"Ascending Sort: \", list_num)\n",
    "\n",
    "list_num.sort(reverse=True)\n",
    "print(\"Descending Sort: \", list_num)\n",
    "\n",
    "\n",
    "list_names = [\"XYZ\", \"ABC\", \"MNO\", \"ARIF\"]\n",
    "print(\"\\nOriginal names list: \", list_names)\n",
    "\n",
    "list_names.sort()         \n",
    "print(\"Ascending Sort: \", list_names)\n",
    "\n",
    "list_names.sort(reverse=True)         \n",
    "print(\"Descending Sort: \", list_names)"
   ]
  },
  {
   "cell_type": "code",
   "execution_count": 62,
   "metadata": {},
   "outputs": [
    {
     "data": {
      "text/plain": [
       "['xyza', 'arif', 'bas', 'abcz']"
      ]
     },
     "execution_count": 62,
     "metadata": {},
     "output_type": "execute_result"
    }
   ],
   "source": [
    "list1 = ['ccc', 'aaaaa', 'd', 'bb']\n",
    "list1.sort()\n",
    "list1\n",
    "\n",
    "\n",
    "#Example 1:\n",
    "list1 = ['ccc', 'aaaaa', 'd', 'bb']\n",
    "list1.sort(key=len)\n",
    "list1\n",
    "\n",
    "def last(s):\n",
    "    return s[-1]\n",
    "\n",
    "list1 = ['abcz', 'xyza', 'bas', 'arif']\n",
    "list1.sort(key=last)\n",
    "list1"
   ]
  }
 ],
 "metadata": {
  "kernelspec": {
   "display_name": "Python 3",
   "language": "python",
   "name": "python3"
  },
  "language_info": {
   "codemirror_mode": {
    "name": "ipython",
    "version": 3
   },
   "file_extension": ".py",
   "mimetype": "text/x-python",
   "name": "python",
   "nbconvert_exporter": "python",
   "pygments_lexer": "ipython3",
   "version": "3.10.8"
  },
  "orig_nbformat": 4,
  "vscode": {
   "interpreter": {
    "hash": "c938f314aa5630f5fcf3b4aad588f4edd0dbe140357325e666a8226cee1b2bf6"
   }
  }
 },
 "nbformat": 4,
 "nbformat_minor": 2
}
