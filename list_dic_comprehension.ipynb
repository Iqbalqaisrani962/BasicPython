{
 "cells": [
  {
   "attachments": {},
   "cell_type": "markdown",
   "metadata": {},
   "source": [
    "# List Comprehension\n",
    "**You can perform above task in single line using List Comprehension**\n",
    "\n",
    "```newlist = [expression for item in iterable]```\n",
    "\n",
    "Where,\n",
    "- `expression` is the member itself, a call to a method, or any other valid expression that returns a value. \n",
    "- `item` is the object or value in the list or iterable.\n",
    "- `iterable` is a list, set, sequence, generator, or any other object that can return its elements one at a time."
   ]
  },
  {
   "cell_type": "code",
   "execution_count": 4,
   "metadata": {},
   "outputs": [
    {
     "name": "stdout",
     "output_type": "stream",
     "text": [
      "[12, 88, 20, 32]\n",
      "['apple', 'banana', 'mango']\n"
     ]
    }
   ],
   "source": [
    "# oldlist = [5, 3, 6, 2]\n",
    "# newlist = []\n",
    "\n",
    "# for i in oldlist:\n",
    "#     newlist.append(i*i)\n",
    "\n",
    "# newlist\n",
    "# Suppose we have an oldlist containing some random numbers. We want to create a new list that contains square of the numbers of the oldlist\n",
    "oldlist = [5, 3, 6, 2]\n",
    "\n",
    "newlist = [i*i for i in oldlist]\n",
    "\n",
    "newlist\n",
    "\n",
    "\n",
    "\n",
    "\n",
    "# list1 = [1, 9, 12, 88, 65, 7, 20, 55, 47, 32]\n",
    "# newlist = []\n",
    "\n",
    "# for i in list1:\n",
    "#     if (i%2 == 0):\n",
    "#         newlist.append(i)\n",
    "# newlist\n",
    "# Given a list, create a new list that should contain the even numbers in the given list using List Comprehension\n",
    "list1 = [1, 9, 12, 88, 65, 7, 20, 55, 47, 32]\n",
    "newlist1 = [i for i in list1 if (i%2 == 0) ]\n",
    "print(newlist1)\n",
    "\n",
    "# Suppose we want to create a `newlist` from an existing list of `fruits` such that the new list should contain only those fruits having alphabet **`a`** in their name\n",
    "fruits = [\"apple\", \"banana\", \"cherry\", \"kiwi\", \"mango\"]\n",
    "\n",
    "newlist = [fruit for fruit in fruits if (\"a\" in fruit)]\n",
    "\n",
    "print(newlist)\n"
   ]
  },
  {
   "attachments": {},
   "cell_type": "markdown",
   "metadata": {},
   "source": [
    "# Dictionary Comprehension"
   ]
  },
  {
   "cell_type": "code",
   "execution_count": 8,
   "metadata": {},
   "outputs": [
    {
     "name": "stdout",
     "output_type": "stream",
     "text": [
      "{1: 1, 2: 8, 3: 27, 4: 64, 5: 125}\n",
      "{0: 0, 2: 8, 4: 64, 6: 216, 8: 512, 10: 1000}\n",
      "{'milk': 150.0, 'choclate': 56.25, 'bread': 100.0}\n",
      "{'bravo': 84, 'delta': 92}\n"
     ]
    }
   ],
   "source": [
    "# Suppose we have a list containing some random numbers. We want to create a dictionary having keys of that list and values as cubes of the list values\n",
    "list1 = [1, 2, 3, 4, 5]\n",
    "\n",
    "dict1 = {key: key**3 for key in list1}\n",
    "\n",
    "print (dict1)\n",
    "# Suppose we have a list containing numbers from 1 to 10. We want to create a dictionary having dictionary keys as the values of that list and dictionary values as cubes of the values in the list. However, the dictionary should contain only those key:value pairs, where the dictionary values are divisible by 4\n",
    "\n",
    "list1 = range(11)\n",
    "\n",
    "dict1 = {key: key**3 for key in list1 if key**3 % 4 == 0}\n",
    "\n",
    "print(dict1)\n",
    "\n",
    "# Suppose we have a dictionary containing some grossary items and their prices. \n",
    "\n",
    "dict1 = {'milk': 120.0, 'choclate': 45.0, 'bread': 80.0}\n",
    "increase = 1.25\n",
    "\n",
    "dict2 = {key: value*increase for (key, value) in dict1.items()}\n",
    "\n",
    "print(dict2)\n",
    "\n",
    "\n",
    "\n",
    "\n",
    "dict1 = {'alpha': 47, 'bravo': 84, 'charlie': 79, 'delta': 92}\n",
    "\n",
    "dict2 = {key: value for (key, value) in dict1.items() if value % 2 == 0}\n",
    "print(dict2)\n"
   ]
  }
 ],
 "metadata": {
  "kernelspec": {
   "display_name": "Python 3",
   "language": "python",
   "name": "python3"
  },
  "language_info": {
   "codemirror_mode": {
    "name": "ipython",
    "version": 3
   },
   "file_extension": ".py",
   "mimetype": "text/x-python",
   "name": "python",
   "nbconvert_exporter": "python",
   "pygments_lexer": "ipython3",
   "version": "3.10.8"
  },
  "orig_nbformat": 4,
  "vscode": {
   "interpreter": {
    "hash": "c938f314aa5630f5fcf3b4aad588f4edd0dbe140357325e666a8226cee1b2bf6"
   }
  }
 },
 "nbformat": 4,
 "nbformat_minor": 2
}
