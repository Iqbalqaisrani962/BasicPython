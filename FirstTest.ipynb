{
 "cells": [
  {
   "cell_type": "markdown",
   "id": "23e4fc5e",
   "metadata": {},
   "source": [
    " # This is python tutorial"
   ]
  },fhfdh
  {
   "cell_type": "markdown",
   "id": "ec5e4c8e",
   "metadata": {},
   "source": [
    "### Jupyter Shortcuts\n",
    "- Esc --> To make cell blue, \n",
    "- y   --> To make cell codeable\n",
    "- m   --> To make cell markdown\n",
    "- $a+b=c$ --> To write arithmetic formulas (must start and end with $ sign)\n",
    "- use ipython as a calculator, 1) open anaconda editor  2) type \"ipython\"\n",
    "- Enter few characters of a variable, and press '*tab*' to autoshow options\n",
    "- Click on any function, then press '*shift+tab*' to show the main functionality of a function"
   ]
  },
  {
   "cell_type": "markdown",
   "id": "4b0edcd4",
   "metadata": {},
   "source": [
    "This is out first program in python . Just starts Here\n",
    "\n",
    "print (\"Hellow World\")\n",
    "\n",
    "$a=b+c$\n",
    "\n",
    "# Data Types\n",
    "### Mutable Data Types\n",
    " ***Objects whose value can change are said to be mutable***\n",
    " - List\n",
    " - Dictionary\n",
    " - Set\n",
    " \n",
    "### Immuable Data Types\n",
    " objects whose value is unchangeable once they are created are called immutable\n",
    "- Numbers (integer, bool, float, complex)\n",
    "- String\n",
    "- Tuple \n",
    " "
   ]
  },
  {
   "cell_type": "markdown",
   "id": "cfd3735d",
   "metadata": {},
   "source": [
    "# Variables\n",
    " Three properties are associated with a variable\n",
    " - **Identity** --> It can be considered as an address of memory where an object is stored and cannot be changed, *id()* function return identity\n",
    " - **Type**     --> It defines possible values and operations. *Type()* function return the type of a variable\n",
    " - **Value**    --> Actual Data stored in a variable"
   ]
  },
  {
   "cell_type": "code",
   "execution_count": 17,
   "id": "7dd3974b",
   "metadata": {},
   "outputs": [
    {
     "name": "stdout",
     "output_type": "stream",
     "text": [
      "False\n",
      "<class 'bool'>\n",
      "the value of d is False\n",
      "The value of e is 2\n",
      "The value of e is 1\n",
      "The Value of g is False\n",
      "5\n",
      "23.6\n",
      "<class 'float'>\n",
      "Variable   Type     Data/Info\n",
      "-----------------------------\n",
      "a          int      5\n",
      "abcdefgh   int      233\n",
      "b          float    23.6\n",
      "bool       list     n=0\n",
      "c          bool     False\n",
      "d          bool     False\n",
      "e          int      2\n",
      "f          int      1\n",
      "g          bool     False\n",
      "x          int      2\n",
      "y          float    3.9\n",
      "z          str      My Name is Muhammad Iqbal\n",
      "The value of a is 5 , Type of a is <class 'int'> and id of a is 2334218676656\n",
      "The value of b is 23.6 , Type of b is <class 'float'> and id of b is 2334301998704\n",
      "<class 'int'>\n"
     ]
    },
    {
     "ename": "NameError",
     "evalue": "name 'z' is not defined",
     "output_type": "error",
     "traceback": [
      "\u001b[1;31m---------------------------------------------------------------------------\u001b[0m",
      "\u001b[1;31mNameError\u001b[0m                                 Traceback (most recent call last)",
      "\u001b[1;32m~\\AppData\\Local\\Temp\\ipykernel_14864\\1417904334.py\u001b[0m in \u001b[0;36m<module>\u001b[1;34m\u001b[0m\n\u001b[0;32m     29\u001b[0m \u001b[1;32mdel\u001b[0m \u001b[0mz\u001b[0m\u001b[1;33m\u001b[0m\u001b[1;33m\u001b[0m\u001b[0m\n\u001b[0;32m     30\u001b[0m \u001b[0mid\u001b[0m\u001b[1;33m(\u001b[0m\u001b[0mx\u001b[0m\u001b[1;33m)\u001b[0m\u001b[1;33m\u001b[0m\u001b[1;33m\u001b[0m\u001b[0m\n\u001b[1;32m---> 31\u001b[1;33m \u001b[0mprint\u001b[0m\u001b[1;33m(\u001b[0m\u001b[0mz\u001b[0m\u001b[1;33m)\u001b[0m\u001b[1;33m\u001b[0m\u001b[1;33m\u001b[0m\u001b[0m\n\u001b[0m",
      "\u001b[1;31mNameError\u001b[0m: name 'z' is not defined"
     ]
    }
   ],
   "source": [
    " a = 5\n",
    " b = 23.6\n",
    "c = a>b                   # Bool Variable c\n",
    "print (c)                    # Print value of bool variable c\n",
    "print (type(c))              #print the type of variable c\n",
    "d = (-1 == True)\n",
    "print (\"the value of d is\", d)\n",
    "e = 1+ True\n",
    "f = 1+ False\n",
    "print (\"The value of e is\",e)\n",
    "print(\"The value of e is\", f)\n",
    "# g = (0 == (False+False))\n",
    "# print (\"The Value of g is\",g)\n",
    "# g = (0.0 == (False+False))\n",
    "# print (\"The Value of g is\",g)\n",
    "g = ((None) == (False+False))\n",
    "print (\"The Value of g is\",g)\n",
    "\n",
    "abcdefgh = 233\n",
    "print (a)\n",
    "print (b)\n",
    "# %whos\n",
    "print (type(b))\n",
    "x,y,z = 2, 3.9, \"My Name is Muhammad Iqbal\"\n",
    "%whos\n",
    "print(\"The value of a is\", a, \", Type of a is\", type(a),\"and id of a is\", id(a))\n",
    "print(\"The value of b is\", b,\", Type of b is\", type(b), \"and id of b is\",   id(b))\n",
    "print(type(abcdefgh))\n",
    "del z\n",
    "id(x)\n",
    "print(z)"
   ]
  },
  {
   "cell_type": "markdown",
   "id": "41d27b00",
   "metadata": {},
   "source": [
    "# Variables Advanced Concepts\n",
    "- Note that the string object \"Subject\" has become orphaned object, as no variable is refering to it now. This is because the reference variable *ver1* is now pointing/refering to new object \"Data Science\". All orphan objects are reaped by Python Garbage Collector "
   ]
  },
  {
   "cell_type": "code",
   "execution_count": null,
   "id": "96364828",
   "metadata": {},
   "outputs": [],
   "source": [
    "var1 = \"Subject\"\n",
    "print (var1)\n",
    "# var1[1] = 'b'\n",
    "var1 = \"Data Science\"\n",
    "print (var1)\n",
    "print (id(var1))\n",
    "y=complex(2,5)\n",
    "print(y)"
   ]
  },
  {
   "cell_type": "markdown",
   "id": "64b53750",
   "metadata": {},
   "source": [
    "# Operators\n",
    "### Jupyter Notebook\n",
    "git reset text1.txt      --> To unstage the changes <br>\n",
    "git checkout text1.txt   --> To remove changes from file <br>\n",
    "git checkout .           --> To remove changes from all files <br>\n",
    "//                       --> Floor Division (Divide and remove decimal from answer) <br>\n",
    "**                       --> To the power ofs"
   ]
  },
  {
   "cell_type": "markdown",
   "id": "f4df7881",
   "metadata": {},
   "source": [
    "# Type Conversions\n"
   ]
  },
  {
   "cell_type": "code",
   "execution_count": 19,
   "id": "c2276963",
   "metadata": {},
   "outputs": [
    {
     "name": "stdout",
     "output_type": "stream",
     "text": [
      "<class 'str'> 21\n"
     ]
    }
   ],
   "source": [
    "i = '21'\n",
    "print(type(i), i)"
   ]
  },
  {
   "cell_type": "code",
   "execution_count": 20,
   "id": "6d9d8292",
   "metadata": {},
   "outputs": [
    {
     "name": "stdout",
     "output_type": "stream",
     "text": [
      "<class 'int'> 21\n"
     ]
    }
   ],
   "source": [
    "j = int(i)\n",
    "print(type(j), j)"
   ]
  },
  {
   "cell_type": "code",
   "execution_count": 24,
   "id": "ecf551c6",
   "metadata": {},
   "outputs": [
    {
     "ename": "TypeError",
     "evalue": "'list' object is not callable",
     "output_type": "error",
     "traceback": [
      "\u001b[1;31m---------------------------------------------------------------------------\u001b[0m",
      "\u001b[1;31mTypeError\u001b[0m                                 Traceback (most recent call last)",
      "\u001b[1;32m~\\AppData\\Local\\Temp\\ipykernel_14864\\2152333174.py\u001b[0m in \u001b[0;36m<module>\u001b[1;34m\u001b[0m\n\u001b[1;32m----> 1\u001b[1;33m \u001b[0mz\u001b[0m \u001b[1;33m=\u001b[0m \u001b[0mbool\u001b[0m\u001b[1;33m(\u001b[0m\u001b[1;33m-\u001b[0m\u001b[1;36m5\u001b[0m\u001b[1;33m)\u001b[0m\u001b[1;33m\u001b[0m\u001b[1;33m\u001b[0m\u001b[0m\n\u001b[0m\u001b[0;32m      2\u001b[0m \u001b[0mtype\u001b[0m\u001b[1;33m(\u001b[0m\u001b[0mz\u001b[0m\u001b[1;33m)\u001b[0m\u001b[1;33m,\u001b[0m \u001b[0mz\u001b[0m\u001b[1;33m\u001b[0m\u001b[1;33m\u001b[0m\u001b[0m\n",
      "\u001b[1;31mTypeError\u001b[0m: 'list' object is not callable"
     ]
    }
   ],
   "source": [
    "z = bool(-5)\n",
    "type(z), z"
   ]
  },
  {
   "cell_type": "markdown",
   "id": "5ff0b988",
   "metadata": {},
   "source": [
    "# Comparision Operators\n",
    "- **Always return Bool Value, True or False**"
   ]
  },
  {
   "cell_type": "code",
   "execution_count": 26,
   "id": "ff698b93",
   "metadata": {},
   "outputs": [
    {
     "name": "stdout",
     "output_type": "stream",
     "text": [
      "x>yis: False\n",
      "x<yis: True\n",
      "x==yis: False\n",
      "x!=yis: True\n",
      "x>=yis: False\n",
      "x<=yis: True\n"
     ]
    }
   ],
   "source": [
    "x= 10\n",
    "y= 30\n",
    "print (\"x>yis:\", x>y)\n",
    "print (\"x<yis:\", x<y)\n",
    "print (\"x==yis:\", x==y)\n",
    "print (\"x!=yis:\", x!=y)\n",
    "print (\"x>=yis:\", x>=y)\n",
    "print (\"x<=yis:\", x<=y)"
   ]
  },
  {
   "cell_type": "markdown",
   "id": "463850bf",
   "metadata": {},
   "source": [
    "# Logical Operators\n",
    "- **Always return Boolean Values, True or False**"
   ]
  },
  {
   "cell_type": "code",
   "execution_count": 27,
   "id": "b8c45a72",
   "metadata": {},
   "outputs": [
    {
     "name": "stdout",
     "output_type": "stream",
     "text": [
      "x and y is: False\n",
      "x or y is: True\n",
      "x not is: False\n"
     ]
    }
   ],
   "source": [
    "x= True\n",
    "y= False\n",
    "print (\"x and y is:\", x and y)\n",
    "print (\"x or y is:\", x or y)\n",
    "print (\"x not is:\", not x)"
   ]
  },
  {
   "cell_type": "code",
   "execution_count": 33,
   "id": "38e0e5c2",
   "metadata": {},
   "outputs": [
    {
     "data": {
      "text/plain": [
       "False"
      ]
     },
     "execution_count": 33,
     "metadata": {},
     "output_type": "execute_result"
    }
   ],
   "source": [
    "numb = 3\n",
    "(2 <3 and 3 <=5 ) and not (numb<0 or True)\n",
    "# (2 <3 and 3 <=5 ) or not (numb<0 or True)"
   ]
  },
  {
   "cell_type": "markdown",
   "id": "a6557467",
   "metadata": {},
   "source": [
    "### How to handle zero in Division and Short Circut Concept"
   ]
  },
  {
   "cell_type": "code",
   "execution_count": 38,
   "id": "53b76069",
   "metadata": {},
   "outputs": [
    {
     "data": {
      "text/plain": [
       "False"
      ]
     },
     "execution_count": 38,
     "metadata": {},
     "output_type": "execute_result"
    }
   ],
   "source": [
    "x = 10\n",
    "y = 0\n",
    "(x > 10) and (y==0)                    # if first condition is false then kernal terminate the function, \n",
    "                                       #it will not execute the second condition\n",
    "# (x == 10) and (x/y)                  # To evide this type of error please use guard evaluation\n",
    "(x > 10) and (y != 0) and (y/x)       # (y != 0) act as a guard, and evide to execute (y/x)"
   ]
  },
  {
   "cell_type": "markdown",
   "id": "9612ed9a",
   "metadata": {},
   "source": [
    "# Identity Operators\n",
    "- **Identity operators are used to compare the memory address of two variables**\n",
    "- **Return true if both variables refer to same memory location**\n",
    "- **'*is*','*is not*'**"
   ]
  },
  {
   "cell_type": "code",
   "execution_count": 41,
   "id": "a97e4a99",
   "metadata": {},
   "outputs": [
    {
     "name": "stdout",
     "output_type": "stream",
     "text": [
      "False\n",
      "True\n",
      "True\n"
     ]
    }
   ],
   "source": [
    "x = 10\n",
    "y = 8\n",
    "z = 10\n",
    "print (x is y)\n",
    "print (x is z)\n",
    "print (x is not y)"
   ]
  },
  {
   "cell_type": "markdown",
   "id": "48763074",
   "metadata": {},
   "source": [
    "# Membership Operator \n",
    "- ** To show the membership in sequences such as Strings, List, and Tuples**\n",
    "- **'*in*', '*not in*'**"
   ]
  },
  {
   "cell_type": "code",
   "execution_count": 46,
   "id": "be0b98ae",
   "metadata": {},
   "outputs": [
    {
     "name": "stdout",
     "output_type": "stream",
     "text": [
      "False\n",
      "True\n",
      "True\n",
      "True\n"
     ]
    }
   ],
   "source": [
    "a = [1,2,3,5,6,7,'ali']\n",
    "print(10 in a)\n",
    "print(5 in a)\n",
    "x=7\n",
    "print (x in a)\n",
    "rv = x in a\n",
    "print(rv)"
   ]
  }
 ],
 "metadata": {
  "kernelspec": {
   "display_name": "Python 3 (ipykernel)",
   "language": "python",
   "name": "python3"
  },
  "language_info": {
   "codemirror_mode": {
    "name": "ipython",
    "version": 3
   },
   "file_extension": ".py",
   "mimetype": "text/x-python",
   "name": "python",
   "nbconvert_exporter": "python",
   "pygments_lexer": "ipython3",
   "version": "3.9.13"
  }
 },
 "nbformat": 4,
 "nbformat_minor": 5
}
