{
 "cells": [
  {
   "cell_type": "markdown",
   "id": "23e4fc5e",
   "metadata": {},
   "source": [
    " # This is python tutorial"
   ]
  },
  {
   "cell_type": "markdown",
   "id": "4b0edcd4",
   "metadata": {},
   "source": [
    "This is out first program in python . Just starts Here"
   ]
  },
  {
   "cell_type": "code",
   "execution_count": 1,
   "id": "93c63879",
   "metadata": {},
   "outputs": [
    {
     "name": "stdout",
     "output_type": "stream",
     "text": [
      "Hellow World\n"
     ]
    }
   ],
   "source": [
    "print (\"Hellow World\")"
   ]
  },
  {
   "cell_type": "markdown",
   "id": "5f7580ed",
   "metadata": {},
   "source": [
    "$a=b+c$"
   ]
  },
  {
   "cell_type": "code",
   "execution_count": null,
   "id": "2fea8b77",
   "metadata": {},
   "outputs": [],
   "source": []
  }
 ],
 "metadata": {
  "kernelspec": {
   "display_name": "Python 3 (ipykernel)",
   "language": "python",
   "name": "python3"
  },
  "language_info": {
   "codemirror_mode": {
    "name": "ipython",
    "version": 3
   },
   "file_extension": ".py",
   "mimetype": "text/x-python",
   "name": "python",
   "nbconvert_exporter": "python",
   "pygments_lexer": "ipython3",
   "version": "3.9.13"
  }
 },
 "nbformat": 4,
 "nbformat_minor": 5
}
