{
 "cells": [
  {
   "cell_type": "markdown",
   "id": "23e4fc5e",
   "metadata": {},
   "source": [
    " # This is python tutorial"
   ]
  },
  {
   "cell_type": "markdown",
   "id": "ec5e4c8e",
   "metadata": {},
   "source": [
    "### Jupyter Shortcuts\n",
    "- Esc --> To make cell blue, \n",
    "- y   --> To make cell codeable\n",
    "- m   --> To make cell markdown\n",
    "- $a+b=c$ --> To write arithmetic formulas (must start and end with $ sign)\n",
    "- use ipython as a calculator, 1) open anaconda editor  2) type \"ipython\""
   ]
  },
  {
   "cell_type": "markdown",
   "id": "4b0edcd4",
   "metadata": {},
   "source": [
    "This is out first program in python . Just starts Here\n",
    "\n",
    "print (\"Hellow World\")\n",
    "\n",
    "$a=b+c$\n",
    "\n",
    "# Data Types\n",
    "### Mutable Data Types\n",
    " ***Objects whose value can change are said to be mutable***\n",
    " - List\n",
    " - Dictionary\n",
    " - Set\n",
    " \n",
    "### Immuable Data Types\n",
    " objects whose value is unchangeable once they are created are called immutable\n",
    "- Numbers (integer, bool, float, complex)\n",
    "- String\n",
    "- Tuple \n",
    " "
   ]
  },
  {
   "cell_type": "markdown",
   "id": "cfd3735d",
   "metadata": {},
   "source": [
    "# Variables"
   ]
  },
  {
   "cell_type": "code",
   "execution_count": 8,
   "id": "7dd3974b",
   "metadata": {},
   "outputs": [
    {
     "name": "stdout",
     "output_type": "stream",
     "text": [
      "5\n",
      "23.6\n",
      "<class 'float'>\n",
      "Variable   Type     Data/Info\n",
      "-----------------------------\n",
      "a          int      5\n",
      "b          float    23.6\n",
      "x          int      2\n",
      "y          float    3.9\n",
      "z          str      My Name is Muhammad Iqbal\n"
     ]
    },
    {
     "ename": "NameError",
     "evalue": "name 'z' is not defined",
     "output_type": "error",
     "traceback": [
      "\u001b[1;31m---------------------------------------------------------------------------\u001b[0m",
      "\u001b[1;31mNameError\u001b[0m                                 Traceback (most recent call last)",
      "\u001b[1;32m~\\AppData\\Local\\Temp\\ipykernel_13908\\2791978618.py\u001b[0m in \u001b[0;36m<module>\u001b[1;34m\u001b[0m\n\u001b[0;32m      8\u001b[0m \u001b[0mget_ipython\u001b[0m\u001b[1;33m(\u001b[0m\u001b[1;33m)\u001b[0m\u001b[1;33m.\u001b[0m\u001b[0mrun_line_magic\u001b[0m\u001b[1;33m(\u001b[0m\u001b[1;34m'whos'\u001b[0m\u001b[1;33m,\u001b[0m \u001b[1;34m''\u001b[0m\u001b[1;33m)\u001b[0m\u001b[1;33m\u001b[0m\u001b[1;33m\u001b[0m\u001b[0m\n\u001b[0;32m      9\u001b[0m \u001b[1;32mdel\u001b[0m \u001b[0mz\u001b[0m\u001b[1;33m\u001b[0m\u001b[1;33m\u001b[0m\u001b[0m\n\u001b[1;32m---> 10\u001b[1;33m \u001b[0mprint\u001b[0m\u001b[1;33m(\u001b[0m\u001b[0mz\u001b[0m\u001b[1;33m)\u001b[0m\u001b[1;33m\u001b[0m\u001b[1;33m\u001b[0m\u001b[0m\n\u001b[0m",
      "\u001b[1;31mNameError\u001b[0m: name 'z' is not defined"
     ]
    }
   ],
   "source": [
    " a = 5\n",
    " b = 23.6\n",
    "print (a)\n",
    "print (b)\n",
    "# %whos\n",
    "print (type(b))\n",
    "x,y,z = 2, 3.9, \"My Name is Muhammad Iqbal\"\n",
    "%whos\n",
    "del z\n",
    "print(z)"
   ]
  }
 ],
 "metadata": {
  "kernelspec": {
   "display_name": "Python 3 (ipykernel)",
   "language": "python",
   "name": "python3"
  },
  "language_info": {
   "codemirror_mode": {
    "name": "ipython",
    "version": 3
   },
   "file_extension": ".py",
   "mimetype": "text/x-python",
   "name": "python",
   "nbconvert_exporter": "python",
   "pygments_lexer": "ipython3",
   "version": "3.9.13"
  }
 },
 "nbformat": 4,
 "nbformat_minor": 5
}
