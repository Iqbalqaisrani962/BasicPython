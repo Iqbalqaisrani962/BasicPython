{
 "cells": [
  {
   "attachments": {},
   "cell_type": "markdown",
   "metadata": {},
   "source": [
    "# Typles\n",
    "- List is a collection which is ordered and changeable. Allows duplicate members.\n",
    "- Tuple is a collection which is ordered and unchangeable. Allows duplicate members.\n",
    "- Set is a collection which is unordered, unchangeable*, and unindexed. No duplicate members.\n",
    "- Dictionary is a collection which is ordered** and changeable. No duplicate members."
   ]
  },
  {
   "attachments": {},
   "cell_type": "markdown",
   "metadata": {},
   "source": [
    "#### Tuples Creation"
   ]
  },
  {
   "cell_type": "code",
   "execution_count": 1,
   "metadata": {},
   "outputs": [
    {
     "name": "stdout",
     "output_type": "stream",
     "text": [
      "t1:  (1, 2, 3, 4, 5)\n",
      "t2:  (2.3, 5.6, 1.8)\n",
      "t3:  ('hello', 'this', 'F', 'good show')\n",
      "t4:  (True, False, True)\n",
      "3\n",
      "Type of t4 is:  <class 'tuple'>\n"
     ]
    }
   ],
   "source": [
    "t1 = (1, 2, 3, 4, 5)   #tuple of integers\n",
    "t1 = 1, 2, 3, 4, 5\n",
    "print(\"t1: \", t1)\n",
    "\n",
    "t2 = (2.3, 5.6, 1.8)  #tuple of floats\n",
    "print(\"t2: \", t2)\n",
    "\n",
    "t3 = ('hello', 'this', 'F', 'good show') #tuple of strings\n",
    "print(\"t3: \", t3)\n",
    "\n",
    "t4 = (True, False, True)    # tuple of boolean values\n",
    "print(\"t4: \", t4)\n",
    "\n",
    "print(len(t4))\n",
    "print(\"Type of t4 is: \", type(t4))"
   ]
  },
  {
   "cell_type": "code",
   "execution_count": 7,
   "metadata": {},
   "outputs": [
    {
     "name": "stdout",
     "output_type": "stream",
     "text": [
      "t5:  ()\n",
      "\n",
      "t6:  (25,)\n",
      "<class 'tuple'>\n",
      "<class 'int'>\n",
      "t1:  (1, 'Hello', [8, 'OK', 6], (1, 2, 'BYE'), 5.5)\n",
      "Type of t1 is:  <class 'tuple'>\n"
     ]
    }
   ],
   "source": [
    "# creating empty tuple\n",
    "t5 = ()\n",
    "print(\"t5: \", t5)\n",
    "\n",
    "\n",
    "\n",
    "# to create a tuple with only one element is a bit tricky\n",
    "t6 = (25,)       # note the comma, without it, Python will take it as int/float/string and not tuple\n",
    "print(\"\\nt6: \", t6)\n",
    "print(type(t6))\n",
    "\n",
    "\n",
    "\n",
    "\n",
    "# without comma, t7 is considered as int\n",
    "t7 = (25)\n",
    "print(type(t7))\n",
    "\n",
    "\n",
    "\n",
    "# Nested tuple: A tuple can also have another tuple, or list as an item\n",
    "# t1 proves the concept of heterogenous\n",
    "t1 = (1, \"Hello\", [8, 'OK', 6], (1, 2, 'BYE'), 5.5)\n",
    "print(\"t1: \", t1)\n",
    "print(\"Type of t1 is: \", type(t1))"
   ]
  },
  {
   "attachments": {},
   "cell_type": "markdown",
   "metadata": {},
   "source": [
    "#### Tuples are ordered\n",
    "- Like Lists Tuples are ordered.\n",
    "- Tuples are ordered means every element is associated by an index.\n",
    "- Every time you access tuple elements they will show up in same sequence. \n",
    "- Moreover, two tuples having same elements in different order are not same."
   ]
  },
  {
   "cell_type": "code",
   "execution_count": 11,
   "metadata": {},
   "outputs": [
    {
     "name": "stdout",
     "output_type": "stream",
     "text": [
      "1803176852224\n",
      "1803177089152\n",
      "1803177083008\n",
      "False\n",
      "False\n",
      "False\n",
      "True\n"
     ]
    }
   ],
   "source": [
    "a = (1, 2, 3)\n",
    "c = (1, 2, 3)\n",
    "b = (2, 3, 1)\n",
    "\n",
    "print(id(a))\n",
    "print(id(b))\n",
    "print(id(c))\n",
    "\n",
    "print(a is b)\n",
    "print(a == b)\n",
    "\n",
    "print(a is c)\n",
    "print(a == c)"
   ]
  },
  {
   "attachments": {},
   "cell_type": "markdown",
   "metadata": {},
   "source": [
    "#### Tuples are immutables"
   ]
  },
  {
   "cell_type": "code",
   "execution_count": 13,
   "metadata": {},
   "outputs": [
    {
     "ename": "TypeError",
     "evalue": "'tuple' object does not support item assignment",
     "output_type": "error",
     "traceback": [
      "\u001b[1;31m---------------------------------------------------------------------------\u001b[0m",
      "\u001b[1;31mTypeError\u001b[0m                                 Traceback (most recent call last)",
      "Cell \u001b[1;32mIn [13], line 3\u001b[0m\n\u001b[0;32m      1\u001b[0m \u001b[39m# Tuples are immutable, i.e., tuple elements cannot be changed\u001b[39;00m\n\u001b[0;32m      2\u001b[0m numbers \u001b[39m=\u001b[39m (\u001b[39m10\u001b[39m, \u001b[39m20\u001b[39m, \u001b[39m30\u001b[39m)\n\u001b[1;32m----> 3\u001b[0m numbers[\u001b[39m2\u001b[39;49m] \u001b[39m=\u001b[39m \u001b[39m15\u001b[39m    \u001b[39m# this will generate an error\u001b[39;00m\n\u001b[0;32m      5\u001b[0m \u001b[39m# Tupple however can be reassigned\u001b[39;00m\n\u001b[0;32m      6\u001b[0m numbers \u001b[39m=\u001b[39m (\u001b[39m10\u001b[39m, \u001b[39m20\u001b[39m, \u001b[39m30\u001b[39m)\n",
      "\u001b[1;31mTypeError\u001b[0m: 'tuple' object does not support item assignment"
     ]
    }
   ],
   "source": [
    "# Tuples are immutable, i.e., tuple elements cannot be changed\n",
    "numbers = (10, 20, 30)\n",
    "numbers[2] = 15    # this will generate an error\n",
    "\n",
    "# Tupple however can be reassigned\n",
    "numbers = (10, 20, 30)\n",
    "numbers = (1, 2, 3)  # A tupple can be reassigned\n",
    "numbers"
   ]
  },
  {
   "attachments": {},
   "cell_type": "markdown",
   "metadata": {},
   "source": [
    "- tuple object `(10,20,20)` in memory has become an orphan, since the numbers variable is now pointing to another tuple object `(1,2,3)` in memory. The unreferenced tuple object will be garbage collected by Python garbage collector"
   ]
  },
  {
   "cell_type": "code",
   "execution_count": 14,
   "metadata": {},
   "outputs": [
    {
     "name": "stdout",
     "output_type": "stream",
     "text": [
      "(1, 2, 3, ['a', 'Not OK', 'c', 'd'], ('i', 'ii', 'iii'))\n"
     ]
    }
   ],
   "source": [
    "# A List within a tuple is still mutable\n",
    "# t1 = (1, \"Hello\", [8, 'OK', 6], (1, 2, 'BYE'), 5.5)\n",
    "tuple1 = (1,2,3,['a', 'b', 'c', 'd'], ('i', 'ii', 'iii'))\n",
    "tuple1[3][1] = 'Not OK'         # will work fine\n",
    "print(tuple1)"
   ]
  },
  {
   "cell_type": "code",
   "execution_count": 17,
   "metadata": {},
   "outputs": [
    {
     "name": "stdout",
     "output_type": "stream",
     "text": [
      "('Arif', 'Rauf', 'Hadeed', 'Arif', 'Mujahid')\n",
      "(1, 2, 3, (4, 5), (6, 7, 8, 9), 10, 11)\n",
      "(1, 2, 3, (4, 5, (6, 7, 8, (9, 10, 11))))\n"
     ]
    }
   ],
   "source": [
    "# Like Lists, Tuples allow duplicate elements\n",
    "names = ('Arif', 'Rauf', 'Hadeed', 'Arif', 'Mujahid')\n",
    "print(names)\n",
    "\n",
    "\n",
    "# A tuple having two sub-tuples within it\n",
    "a = (1,2,3,(4,5),(6,7,8,9),10,11)\n",
    "# A tuple having a sub-tuple, which is further having a sub-tuple and that again having a subtuple\n",
    "# b = (1,2,3,(4,5,(6,7,8,(9,10,11))))\n",
    "b = (1,2,3,(4,5,(6,7,8,(9,10,11))))\n",
    "print(a, b, sep='\\n')"
   ]
  },
  {
   "attachments": {},
   "cell_type": "markdown",
   "metadata": {},
   "source": [
    "#### Packing and Unpacking Tuples"
   ]
  },
  {
   "cell_type": "code",
   "execution_count": 26,
   "metadata": {},
   "outputs": [
    {
     "name": "stdout",
     "output_type": "stream",
     "text": [
      "iqbal hira school tameer nao\n",
      "<class 'str'>\n",
      "Type of l2 <class 'list'>\n",
      "Type of T2 <class 'tuple'>\n",
      "Hi! iqbal, Your school is hira school, your accademy is tameer nao, your under graduate uni is UET, and your graduate uni is PUCIT\n"
     ]
    }
   ],
   "source": [
    "# you can unpack tuple elements\n",
    "t1 = ('iqbal', 'hira school', 'tameer nao', 'UET', 'PUCIT')\n",
    "name, school, academy, underGraduateUni, graduateUni = t1 # the number of variables on the left must match the length of tuple\n",
    "print (name, school, academy)\n",
    "print(type(graduateUni))\n",
    "\n",
    "t2 = (name, school, academy, underGraduateUni, graduateUni)\n",
    "l2 = list(t2)\n",
    "print(\"Type of l2\", type(l2))\n",
    "print(\"Type of T2\", type(t2))\n",
    "print(\"Hi! {}, Your school is {}, your accademy is {}, your under graduate uni is {}, and your graduate uni is {}\".format(name, school, academy, underGraduateUni, graduateUni))\n",
    "\n",
    "\n",
    "# convert a string into tuple using tuple()\n",
    "str1 = 'Learning is fun'    #this is a string\n",
    "print(\"Original string: \", str1, \"and its type is:  \", type(str1))\n",
    "t1 = tuple(str1)\n",
    "print(\"t1: \", t1, \"and its type is:  \", type(t1))"
   ]
  },
  {
   "attachments": {},
   "cell_type": "markdown",
   "metadata": {},
   "source": [
    "#### Different ways to access Elements of a Tuple\n",
    "- Since Tuple like List is of type Sequence, and any component within a sequence can be accessed by entrying an index within square brackets. So naturally this must work for Tuple as well\n",
    "- Similarly, if we want to find out the index of a specific item/character, we can use the `index()` method of Tuple class"
   ]
  },
  {
   "cell_type": "code",
   "execution_count": 31,
   "metadata": {},
   "outputs": [
    {
     "name": "stdout",
     "output_type": "stream",
     "text": [
      "5.5\n",
      "(10, 'rauf')\n",
      "i\n",
      "rauf\n",
      "(10, 'rauf')\n",
      "5.5\n",
      "\n",
      "mytuple:  (27, 4.5, 'arif', 64, 'hadeed', 19, 'arif')\n",
      "0\n",
      "4\n",
      "mytuple.index(3):  2\n"
     ]
    }
   ],
   "source": [
    "#You can access elements of tuple using indexing which starts from zero\n",
    "t1 = (\"Arif\", 30, 5.5, (10,'rauf'))\n",
    "\n",
    "print(t1[2])       #accessing element of tuple at index2\n",
    "print(t1[3])       #accessing element of tuple at index3, which is again a tuple\n",
    "\n",
    "#accessing Nested tuple element\n",
    "print(t1[0][2])              #accessing third character of a tuple element at index 0\n",
    "print(t1[3][1])              #accessing second element of Nested tuple at index 3\n",
    "\n",
    "\n",
    "#Negative indexing starts looking at the tuple from the right hand side\n",
    "t1 = (\"Arif\", 30, 5.5, (10,'rauf'))\n",
    "print(t1[-1])                #accessing last element\n",
    "print(t1[-2])                #accessing second last element\n",
    "\n",
    "\n",
    "# index(value) method is used when you know the tuple element and wants to get its index\n",
    "# index(value) method returns the index of the first matched item with its only argument\n",
    "mytuple = (27, 4.5, 'arif', 64, 'hadeed', 19, 'arif')\n",
    "print(\"\\nmytuple: \", mytuple)\n",
    "print(mytuple.index(27))\n",
    "print(mytuple.index('hadeed'))\n",
    "print(\"mytuple.index(3): \", mytuple.index('arif'))"
   ]
  },
  {
   "attachments": {},
   "cell_type": "markdown",
   "metadata": {},
   "source": [
    "#### Slicing Tuples\n",
    "- Like anyother sequence object we can perform slicing with tuples as well.\n",
    "- Slicing is the process of obtaining a portion of a tuple by using its indices.\n",
    "- Given a tuple, we can use the following template to slice it and obtain a sublist:\n",
    "```\n",
    "mytuple[start:end:step]\n",
    "```\n",
    "\n",
    "- **start** is the index from where we want the subtuple to start.If start is not provided, slicing starts from the beginning.\n",
    "- **end** is the index where we want our subtuple to end (not inclusive in the subtuple). If end is not provided, slicing goes till the last element of the tuple.\n",
    "- **step** is the step through which we want to skip elements in the tuple. The default step is 1, so we iterate through every element of the tuple."
   ]
  },
  {
   "cell_type": "code",
   "execution_count": 36,
   "metadata": {},
   "outputs": [
    {
     "name": "stdout",
     "output_type": "stream",
     "text": [
      "('e', 'f', 'g', 'h')\n",
      "('i', 'h', 'g', 'f', 'e', 'd', 'c', 'b', 'a')\n",
      "('f', 'e', 'd', 'c')\n",
      "()\n",
      "('i', 'g', 'e')\n"
     ]
    }
   ],
   "source": [
    "t1 = ('a','b','c','d','e','f','g','h','i')\n",
    "t1\n",
    "print(t1[4:8:1])\n",
    "\n",
    "\n",
    "# Reverse slicing\n",
    "print(t1[::-1])\n",
    "# Take 1 step back each time\n",
    "print(t1[5:1:-1]) \n",
    "# Take 1 step back each time\n",
    "#if start is less than end in case of a negative step, it will return empty string\n",
    "print(t1[2:10:-1])\n",
    "print(t1[-1:-7:-2]) # Take 2 steps back\n",
    "\n"
   ]
  },
  {
   "attachments": {},
   "cell_type": "markdown",
   "metadata": {},
   "source": [
    "#### Concatenating Tuples\n",
    "- The `+` operator is used to concatenate two or more tuples"
   ]
  },
  {
   "cell_type": "code",
   "execution_count": 40,
   "metadata": {},
   "outputs": [
    {
     "name": "stdout",
     "output_type": "stream",
     "text": [
      "(3, 4, 5, 6, 1, 2, 3, 4)\n",
      "(0, 3, 4, 5, 6, 1, 2, 3, 4)\n",
      "('fruits', 'bread', 'veggies', 'meat', 'spices', 'burger')\n",
      "(1, 2, 3, 4, 5, 6, (7, 8, (8, 9, 10, (11, 12, 13, 14))))\n"
     ]
    }
   ],
   "source": [
    "tuple2 = (1,2,3,4)\n",
    "tuple3 = (3,4,5,6)+tuple2\n",
    "print(tuple3)\n",
    "\n",
    "\n",
    "tuple4 = (0,)+tuple3\n",
    "print(tuple4)\n",
    "\n",
    "\n",
    "# use + operator to concatenate two tuples\n",
    "food_items1 = ('fruits', 'bread', 'veggies')\n",
    "food_items2 = ('meat', 'spices', 'burger')\n",
    "food = food_items1 + food_items2\n",
    "print(food)\n",
    "\n",
    "\n",
    "num1 = (1,2,3)\n",
    "num2 = num1 + (4, 5, 6, (7, 8, (8, 9, 10, (11,12,13,14))))\n",
    "print (num2)"
   ]
  },
  {
   "attachments": {},
   "cell_type": "markdown",
   "metadata": {},
   "source": [
    "#### Replicating Tuples\n",
    "- The `*` operator is used to repeat or replicate"
   ]
  },
  {
   "cell_type": "code",
   "execution_count": 44,
   "metadata": {},
   "outputs": [
    {
     "name": "stdout",
     "output_type": "stream",
     "text": [
      "(1, 2, 3)\n",
      "(1, 2, 3, 1, 2, 3, 1, 2, 3, 1, 2, 3, 1, 2, 3)\n",
      "('fruits', 'bread', 'veggies')\n",
      "('fruits', 'bread', 'veggies', 'fruits', 'bread', 'veggies', 'fruits', 'bread', 'veggies', 'fruits', 'bread', 'veggies')\n"
     ]
    }
   ],
   "source": [
    "print(num1)\n",
    "num2 = num1*5\n",
    "print(num2)\n",
    "\n",
    "\n",
    "print(food_items1)\n",
    "print(food_items1*4)"
   ]
  },
  {
   "attachments": {},
   "cell_type": "markdown",
   "metadata": {},
   "source": [
    "#### Being immutable, you cannot add elements to a tuple \n",
    "- In list, this is possible using `append`, `extend`, and `insert`"
   ]
  },
  {
   "cell_type": "code",
   "execution_count": 45,
   "metadata": {},
   "outputs": [
    {
     "name": "stdout",
     "output_type": "stream",
     "text": [
      "\n",
      " myfamily tuple:  ('Farooq', 'Rauf', 'Hadeed')\n"
     ]
    },
    {
     "ename": "AttributeError",
     "evalue": "'tuple' object has no attribute 'insert'",
     "output_type": "error",
     "traceback": [
      "\u001b[1;31m---------------------------------------------------------------------------\u001b[0m",
      "\u001b[1;31mAttributeError\u001b[0m                            Traceback (most recent call last)",
      "Cell \u001b[1;32mIn [45], line 3\u001b[0m\n\u001b[0;32m      1\u001b[0m myfamily \u001b[39m=\u001b[39m (\u001b[39m\"\u001b[39m\u001b[39mFarooq\u001b[39m\u001b[39m\"\u001b[39m, \u001b[39m'\u001b[39m\u001b[39mRauf\u001b[39m\u001b[39m'\u001b[39m, \u001b[39m'\u001b[39m\u001b[39mHadeed\u001b[39m\u001b[39m'\u001b[39m)\n\u001b[0;32m      2\u001b[0m \u001b[39mprint\u001b[39m(\u001b[39m\"\u001b[39m\u001b[39m\\n\u001b[39;00m\u001b[39m myfamily tuple: \u001b[39m\u001b[39m\"\u001b[39m, myfamily)\n\u001b[1;32m----> 3\u001b[0m myfamily\u001b[39m.\u001b[39;49minsert(\u001b[39m2\u001b[39m,\u001b[39m'\u001b[39m\u001b[39mArif\u001b[39m\u001b[39m'\u001b[39m)\n",
      "\u001b[1;31mAttributeError\u001b[0m: 'tuple' object has no attribute 'insert'"
     ]
    }
   ],
   "source": [
    "myfamily = (\"Farooq\", 'Rauf', 'Hadeed')\n",
    "print(\"\\n myfamily tuple: \", myfamily)\n",
    "myfamily.insert(2,'Arif') # will generate an error as tuple object has no attribute 'insert'"
   ]
  },
  {
   "attachments": {},
   "cell_type": "markdown",
   "metadata": {},
   "source": [
    "## Being immutable, you cannot remove elements from a tuple \n",
    "- In list, this is possible using `pop` and `remove` methods"
   ]
  },
  {
   "cell_type": "code",
   "execution_count": 46,
   "metadata": {},
   "outputs": [],
   "source": [
    "tuple1 = ('learning', 'is', 'fun', 'with', 'arif', 'butt')\n",
    "\n",
    "#You cannot delete items from a tuple using del keyword\n",
    "#del tuple1[3]    # will generate an error as tuple object doesn't support item deletion\n",
    "\n",
    "# However, you can assign a new tuple object to the reference tuple1\n",
    "tuple1 = (1, 2, 3, 'arif')\n",
    "# However, you can delete an entire tuple object using del keyword\n",
    "#del tuple1\n",
    "#print(tuple1)"
   ]
  },
  {
   "attachments": {},
   "cell_type": "markdown",
   "metadata": {},
   "source": [
    "#### Use `str.split()` to Split a Tuple into Strings"
   ]
  },
  {
   "cell_type": "code",
   "execution_count": 55,
   "metadata": {},
   "outputs": [
    {
     "name": "stdout",
     "output_type": "stream",
     "text": [
      "('Hy! my name ', 's muhammad ', 'qbal')\n",
      "['Hy!', 'my', 'name', 'is', 'muhammad', 'iqbal']\n"
     ]
    }
   ],
   "source": [
    "tuple1 = ('learning', 'is', 'fun', 'with', 'arif', 'butt')\n",
    "str2 = \"Hy! my name is muhammad iqbal\"\n",
    "tuple5 = tuple(str2.split(\"i\"))\n",
    "tuple6 = str2.split()\n",
    "print(tuple5)\n",
    "print(tuple6)"
   ]
  },
  {
   "attachments": {},
   "cell_type": "markdown",
   "metadata": {},
   "source": [
    "#### Use `str.join()` to Join Strings into a Tuple"
   ]
  },
  {
   "cell_type": "code",
   "execution_count": 64,
   "metadata": {},
   "outputs": [
    {
     "name": "stdout",
     "output_type": "stream",
     "text": [
      "7\n",
      "1\n",
      "This # is # getting # more # and # more # interesting\n",
      "<class 'str'>\n"
     ]
    }
   ],
   "source": [
    "t1 = ('This', 'is', 'getting', 'more', 'and', 'more', 'interesting')\n",
    "print(len(t1))\n",
    "# length method is used to find total number of elements in a tuples\n",
    "\n",
    "print(t1.count('is'))\n",
    "# The `t1.count(val)` method takes exactly one argument and returns the number of times a that value occurs in a tuple\n",
    "\n",
    "str2 = ' '.join(t1)\n",
    "str2, type(str2)\n",
    "\n",
    "delimiter = \" # \"\n",
    "str3 = delimiter.join(t1)\n",
    "print(str3)\n",
    "print(type(str3))\n"
   ]
  },
  {
   "cell_type": "code",
   "execution_count": 70,
   "metadata": {},
   "outputs": [
    {
     "name": "stdout",
     "output_type": "stream",
     "text": [
      "length of tuple:  8\n",
      "max element in tuple:  9\n",
      "min element in tuple:  0\n",
      "Sum of element in tuple:  39\n",
      "occurance of 0 in tuple:  1\n",
      "index of 6 in tuple:  4\n"
     ]
    }
   ],
   "source": [
    "t1 = (3, 8, 1, 6, 0, 8, 9, 4)\n",
    "print(\"length of tuple: \", len(t1))\n",
    "print(\"max element in tuple: \", max(t1))\n",
    "print(\"min element in tuple: \",min(t1))\n",
    "print(\"Sum of element in tuple: \",sum(t1))\n",
    "print(\"occurance of 0 in tuple: \",t1.count(0))\n",
    "print(\"index of 6 in tuple: \",t1.index(0))"
   ]
  },
  {
   "cell_type": "code",
   "execution_count": 69,
   "metadata": {},
   "outputs": [
    {
     "name": "stdout",
     "output_type": "stream",
     "text": [
      "length of list:  9\n",
      "max element in list:  9\n",
      "min element in list:  0\n",
      "Sum of element in list:  39\n",
      "occurance of 0 in list:  2\n",
      "index of 6 in list:  3\n"
     ]
    }
   ],
   "source": [
    "t1 = [3, 8, 1, 0, 6, 0, 8, 9, 4]\n",
    "print(\"length of list: \", len(t1))\n",
    "print(\"max element in list: \", max(t1))\n",
    "print(\"min element in list: \",min(t1))\n",
    "print(\"Sum of element in list: \",sum(t1))\n",
    "print(\"occurance of 0 in list: \",t1.count(0))\n",
    "print(\"index of 6 in list: \",t1.index(0))"
   ]
  },
  {
   "attachments": {},
   "cell_type": "markdown",
   "metadata": {},
   "source": [
    "***Like Lists, you can apply `in` and `not in` membership operators on Tuples***"
   ]
  },
  {
   "cell_type": "code",
   "execution_count": 71,
   "metadata": {},
   "outputs": [
    {
     "name": "stdout",
     "output_type": "stream",
     "text": [
      "False\n",
      "True\n",
      "True\n"
     ]
    }
   ],
   "source": [
    "t1 = (3, 8, 1, 6, 0, 8, 4)\n",
    "rv1 = 9 in t1\n",
    "print(rv1)\n",
    "\n",
    "rv2 = 9 not in t1\n",
    "print(rv2)\n",
    "\n",
    "\n",
    "t2 = (\"XYZ\", \"ABC\", \"MNO\", \"ARIF\")\n",
    "rv3 = \"ARIF\" in t2\n",
    "print(rv3)\n"
   ]
  },
  {
   "attachments": {},
   "cell_type": "markdown",
   "metadata": {},
   "source": [
    "***Comparing Objects and Values***"
   ]
  },
  {
   "cell_type": "code",
   "execution_count": 75,
   "metadata": {},
   "outputs": [
    {
     "name": "stdout",
     "output_type": "stream",
     "text": [
      "1803205685760 1803206572608\n",
      "False\n",
      "True\n",
      "False\n",
      "False\n"
     ]
    }
   ],
   "source": [
    "#In case of tuples, both t1 and t2 refers to two different objects in the memory having same values\n",
    "t1 = (1, 2, 3)\n",
    "t2 = (1, 2, 3)\n",
    "t3 = (2,1,3)\n",
    "print(id(t1), id(t2))\n",
    "\n",
    "print (t1 is t2)   # is operator is checking the memory address (ID) of two tuples\n",
    "print (t1 == t2)   # == operator is checking the contents of two tuples element by element\n",
    "print (t1 is t3)   # is operator is checking the memory address (ID) of two tuples\n",
    "print (t1 == t3)   # == operator is checking the contents of two tuples element by element"
   ]
  },
  {
   "attachments": {},
   "cell_type": "markdown",
   "metadata": {},
   "source": [
    "#### Sorting a Tuple\n",
    "- Python’s built-in `sorted()` function can be used to sort iterable objects, such as lists, tuples, and dictionaries. \n",
    "- The `sorted()` function sorts the items of the specified iterable object and creates a new object with the newly sorted values.\n",
    "- It's syntax is as shown below:\n",
    "```\n",
    "    sorted(object, key=None, reverse=False)\n",
    "```\n",
    "- Where:\n",
    "    - `object`: the iterable object that you want to sort (required)\n",
    "    - `key`: the function that allows you to perform custom sort operations (optional)\n",
    "    - `reverse`: specifies whether the object should be sorted in descending order (optional)- default value is False"
   ]
  },
  {
   "cell_type": "code",
   "execution_count": 80,
   "metadata": {},
   "outputs": [
    {
     "name": "stdout",
     "output_type": "stream",
     "text": [
      "Original Tuple =  (3, 8, 1, 6, 0, 8, 4)\n",
      "Ascending Sort:  [0, 1, 3, 4, 6, 8, 8]\n",
      "Descending Sort:  [8, 8, 6, 4, 3, 1, 0]\n",
      "Original Tuple:  ('XYZ', 'ABCD', 'MNOPQ', 'ARIFSCV')\n",
      "Ascending Sort:  ['ABCD', 'ARIFSCV', 'MNOPQ', 'XYZ']\n",
      "Descending Sort:  ['ARIFSCV', 'MNOPQ', 'ABCD', 'XYZ']\n"
     ]
    }
   ],
   "source": [
    "# Sorting a Dictionary by it values with numeric values\n",
    "\n",
    "t1 = (3, 8, 1, 6, 0, 8, 4)\n",
    "\n",
    "print(\"Original Tuple = \", t1)\n",
    "t2 = sorted(t1)\n",
    "t3 = sorted(t1,  reverse=True)\n",
    "# list1 = sorted(t1)\n",
    "# list2 = sorted(t1, reverse=True)\n",
    "\n",
    "print(\"Ascending Sort: \", t2)\n",
    "print(\"Descending Sort: \", t3)\n",
    "\n"
   ]
  },
  {
   "cell_type": "code",
   "execution_count": 82,
   "metadata": {},
   "outputs": [
    {
     "name": "stdout",
     "output_type": "stream",
     "text": [
      "Original Tuple:  ('XYZ', 'ABCD', 'MNOPQ', 'ARIFSCV')\n",
      "Ascending Sort:  ['ABCD', 'ARIFSCV', 'MNOPQ', 'XYZ']\n",
      "Descending Sort:  ['XYZ', 'ABCD', 'MNOPQ', 'ARIFSCV']\n"
     ]
    }
   ],
   "source": [
    "\n",
    "# Sorting a tuple with string values\n",
    "\n",
    "t1 = (\"XYZ\", \"ABCD\", \"MNOPQ\", \"ARIFSCV\")\n",
    "print(\"Original Tuple: \", t1)\n",
    "\n",
    "list1 = sorted(t1)\n",
    "list2 = sorted(t1, key=len, reverse=False)\n",
    "\n",
    "print(\"Ascending Sort: \", list1)\n",
    "print(\"Descending Sort: \", list2)"
   ]
  },
  {
   "cell_type": "code",
   "execution_count": 83,
   "metadata": {},
   "outputs": [
    {
     "name": "stdout",
     "output_type": "stream",
     "text": [
      "['xyza', 'arif', 'bas', 'abcz']\n",
      "('abcz', 'xyza', 'bas', 'arif')\n"
     ]
    }
   ],
   "source": [
    "def last(s):\n",
    "    return s[-1]\n",
    "\n",
    "t1 = ('abcz', 'xyza', 'bas', 'arif')\n",
    "rv = sorted(t1, key=last)\n",
    "print(rv)\n",
    "print(t1)"
   ]
  }
 ],
 "metadata": {
  "kernelspec": {
   "display_name": "Python 3",
   "language": "python",
   "name": "python3"
  },
  "language_info": {
   "codemirror_mode": {
    "name": "ipython",
    "version": 3
   },
   "file_extension": ".py",
   "mimetype": "text/x-python",
   "name": "python",
   "nbconvert_exporter": "python",
   "pygments_lexer": "ipython3",
   "version": "3.10.8"
  },
  "orig_nbformat": 4,
  "vscode": {
   "interpreter": {
    "hash": "c938f314aa5630f5fcf3b4aad588f4edd0dbe140357325e666a8226cee1b2bf6"
   }
  }
 },
 "nbformat": 4,
 "nbformat_minor": 2
}
