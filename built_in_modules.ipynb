{
 "cells": [
  {
   "attachments": {},
   "cell_type": "markdown",
   "metadata": {},
   "source": [
    "# Built-in Modules\n",
    "#### **Ways to import modules**\n",
    "1) ***import math***\n",
    "2) ***import math as m***\n",
    "3) ***from math import ceil, floor***\n",
    "4) ***from math import asterik***"
   ]
  },
  {
   "attachments": {},
   "cell_type": "markdown",
   "metadata": {},
   "source": [
    "#### 1) `math` Module"
   ]
  },
  {
   "cell_type": "code",
   "execution_count": 1,
   "metadata": {},
   "outputs": [
    {
     "data": {
      "text/plain": [
       "float"
      ]
     },
     "execution_count": 1,
     "metadata": {},
     "output_type": "execute_result"
    }
   ],
   "source": [
    "# First method to import module\n",
    "\n",
    "import math\n",
    "math.ceil(2.3)\n",
    "math.ceil(-2.3)\n",
    "\n",
    "# Second method to import module\n",
    "\n",
    "import math as m\n",
    "m.floor(2.3)\n",
    "m.floor(-2.3)\n",
    "\n",
    "# Third method to import module\n",
    "\n",
    "from math import factorial\n",
    "factorial(4)\n",
    "math.pi           # pi is a ratio of circle' circumference to its diameter\n",
    "math.tau          # tau is a ratio of circle's circumference to it's radius (double to pi)\n",
    "\n",
    "# Fourth method to import module\n",
    "\n",
    "from math import *\n",
    "trunc(19.6)       # Remove the fractional part\n",
    "perm(3,2)         # Permutation\n",
    "comb(3,2)         # Combination\n",
    "\n",
    "\n",
    "# Different type of Trignomatric functions\n",
    "\n",
    "math.sin(90)\n",
    "math.sin(0)\n",
    "math.cos(0)\n",
    "math.cos(90)\n",
    "math.tan(90)\n",
    "math.tan(0)\n",
    "math.acos(0)\n",
    "# math.acos(90)\n",
    "# math.asin(90)\n",
    "math.atan(0)\n",
    "math.sinh(3.14)\n",
    "\n",
    "# Power and Log Functions\n",
    "\n",
    "math.pow(2,3)\n",
    "math.sqrt(25)\n",
    "math.exp(2)\n",
    "math.log(7.39)      # log(value, base)\n",
    "math.log(10,2)      # Log is the inverse of exponential\n",
    "math.log(8,math.e)\n",
    "\n",
    "# LCM and GCM\n",
    "\n",
    "math.lcm(20,30,15)   # Least common \n",
    "math.gcd(27,15)\n",
    "\n",
    "# Different other constants\n",
    "\n",
    "math.e\n",
    "math.inf             # Infinity function\n",
    "type(math.inf)       # Type of infinity is float\n",
    "-math.inf\n",
    "\n",
    "\n",
    "#`NaN` value can be due to invalid inputs/ it indicates that a variable that should be numerical has been corrupted by text characters or symbols\n",
    "math.nan\n",
    "type(nan)"
   ]
  },
  {
   "attachments": {},
   "cell_type": "markdown",
   "metadata": {},
   "source": [
    "#### 2) `timeit` module\n",
    "\n",
    "timeit.timeit(stmt, setup, globals, number)\n",
    "\n",
    "Where\n",
    "- `stmt`: Code statement(s) whose execution time is to be measured.(Use ; for multiple statements)\n",
    "- `setup`: Used to import some modules or declare some necessary variables. (Use ; for multiple statements)\n",
    "- `globals`: You can simplay pass `globals()` to the globals parameter, which will cause the code to be executed within your current global namespace\n",
    "- `number`: It specifies the number of times stmt will be executed. (Default is 1 million times)"
   ]
  },
  {
   "cell_type": "code",
   "execution_count": 47,
   "metadata": {},
   "outputs": [
    {
     "data": {
      "text/plain": [
       "0.2851858399990306"
      ]
     },
     "execution_count": 47,
     "metadata": {},
     "output_type": "execute_result"
    }
   ],
   "source": [
    "import timeit\n",
    "timeit.timeit(\"math.factorial(10)\",setup = \"import math\", number = 1000000)\n",
    "timeit.timeit(\"math.factorial(10)\", globals=globals(), number = 1000000)"
   ]
  },
  {
   "attachments": {},
   "cell_type": "markdown",
   "metadata": {},
   "source": [
    "#### 3) `random` module"
   ]
  },
  {
   "cell_type": "code",
   "execution_count": 20,
   "metadata": {},
   "outputs": [
    {
     "name": "stdout",
     "output_type": "stream",
     "text": [
      "0.3164930633768853\n",
      "8.789032445961228\n",
      "2\n",
      "6\n",
      "4\n",
      "4\n",
      "2\n",
      "s\n"
     ]
    }
   ],
   "source": [
    "import random\n",
    "num = random.random()                        # return a random float value between 0 and 1 [0,1)\n",
    "print(num)\n",
    "\n",
    "\n",
    "num1 = random.uniform(1,10)                  # return a random float value between given arguments [a, b)\n",
    "print(num1) \n",
    "\n",
    "\n",
    "num2 = random.randint(1,10)                  # return a random integer value between given arguments [1,10], 10 is also inclusive\n",
    "print(num2)\n",
    "\n",
    "\n",
    "num3 = random.randrange(1,10)                # return a random integer value between given arguments [1,10), preferred method\n",
    "print(num3)\n",
    "\n",
    "\n",
    "num4 = random.choice([1,2,3,4])              # return a random value of iterable given to the function\n",
    "print(num4)\n",
    "\n",
    "list1 = [1,2,3,4]\n",
    "num5 = random.choice(list1)\n",
    "print(num5)\n",
    "\n",
    "tuple1 = (1,2,3,4)\n",
    "num6 = random.choice(tuple1)\n",
    "print(num6)\n",
    "\n",
    "str1 = \"Hi! My name is muhammad Iqbal\"\n",
    "num7 = random.choice(str1)\n",
    "print(num7)"
   ]
  },
  {
   "attachments": {},
   "cell_type": "markdown",
   "metadata": {},
   "source": [
    "#### 4) `time` module"
   ]
  },
  {
   "cell_type": "code",
   "execution_count": 21,
   "metadata": {},
   "outputs": [
    {
     "name": "stdout",
     "output_type": "stream",
     "text": [
      "Muhammad\n",
      "Iqbal\n"
     ]
    }
   ],
   "source": [
    "import time\n",
    "\n",
    "\n",
    "print(\"Muhammad\")\n",
    "time.sleep(10)             # execution will be stoped for 10 seconds, 'iqbal' will be print after 10 seconds            \n",
    "print(\"Iqbal\")\n",
    "\n"
   ]
  },
  {
   "attachments": {},
   "cell_type": "markdown",
   "metadata": {},
   "source": [
    "#### 5) `datetime` module"
   ]
  },
  {
   "cell_type": "code",
   "execution_count": 36,
   "metadata": {},
   "outputs": [
    {
     "name": "stdout",
     "output_type": "stream",
     "text": [
      "2023-01-20 09:22:32.104415\n",
      "2023-01-20 09:22:32.104770\n",
      "2023\n",
      "1\n",
      "20\n",
      "9\n",
      "22\n",
      "32\n",
      "104770\n",
      "1999-10-28 09:33:08\n",
      "1999-10-28 00:00:00\n"
     ]
    }
   ],
   "source": [
    "import datetime\n",
    "\n",
    "\n",
    "num1 = datetime.datetime.today()         # return current date and time of the system\n",
    "print(num1)\n",
    "\n",
    "\n",
    "num2 = datetime.datetime.now()           # return current date and time of the system \n",
    "print(num2)\n",
    "\n",
    "\n",
    "print(num2.year)                         # return current year of the system \n",
    "print(num2.month)                        # return current month of the system \n",
    "print(num2.day)                          # return current day of the system\n",
    "print(num2.hour)                         # return current hour of the system\n",
    "print(num2.minute)                       # return current minutes of the system\n",
    "print(num2.second)                       # return current secons of the system\n",
    "print(num2.microsecond)                  # return current microseconds of the system\n",
    "\n",
    "\n",
    "\n",
    "num2 = datetime.datetime(1999, 10, 28, 9, 33, 8)          # return given date and time to the object \n",
    "print(num2)\n",
    "\n",
    "num2 = datetime.datetime(1999, 10, 28)                     # return given date to the object \n",
    "print(num2)"
   ]
  },
  {
   "attachments": {},
   "cell_type": "markdown",
   "metadata": {},
   "source": [
    "#### 6) `calender` module"
   ]
  },
  {
   "cell_type": "code",
   "execution_count": 44,
   "metadata": {},
   "outputs": [
    {
     "name": "stdout",
     "output_type": "stream",
     "text": [
      "                                  2023\n",
      "\n",
      "      January                   February                   March\n",
      "Mo Tu We Th Fr Sa Su      Mo Tu We Th Fr Sa Su      Mo Tu We Th Fr Sa Su\n",
      "                   1             1  2  3  4  5             1  2  3  4  5\n",
      " 2  3  4  5  6  7  8       6  7  8  9 10 11 12       6  7  8  9 10 11 12\n",
      " 9 10 11 12 13 14 15      13 14 15 16 17 18 19      13 14 15 16 17 18 19\n",
      "16 17 18 19 20 21 22      20 21 22 23 24 25 26      20 21 22 23 24 25 26\n",
      "23 24 25 26 27 28 29      27 28                     27 28 29 30 31\n",
      "30 31\n",
      "\n",
      "       April                      May                       June\n",
      "Mo Tu We Th Fr Sa Su      Mo Tu We Th Fr Sa Su      Mo Tu We Th Fr Sa Su\n",
      "                1  2       1  2  3  4  5  6  7                1  2  3  4\n",
      " 3  4  5  6  7  8  9       8  9 10 11 12 13 14       5  6  7  8  9 10 11\n",
      "10 11 12 13 14 15 16      15 16 17 18 19 20 21      12 13 14 15 16 17 18\n",
      "17 18 19 20 21 22 23      22 23 24 25 26 27 28      19 20 21 22 23 24 25\n",
      "24 25 26 27 28 29 30      29 30 31                  26 27 28 29 30\n",
      "\n",
      "        July                     August                  September\n",
      "Mo Tu We Th Fr Sa Su      Mo Tu We Th Fr Sa Su      Mo Tu We Th Fr Sa Su\n",
      "                1  2          1  2  3  4  5  6                   1  2  3\n",
      " 3  4  5  6  7  8  9       7  8  9 10 11 12 13       4  5  6  7  8  9 10\n",
      "10 11 12 13 14 15 16      14 15 16 17 18 19 20      11 12 13 14 15 16 17\n",
      "17 18 19 20 21 22 23      21 22 23 24 25 26 27      18 19 20 21 22 23 24\n",
      "24 25 26 27 28 29 30      28 29 30 31               25 26 27 28 29 30\n",
      "31\n",
      "\n",
      "      October                   November                  December\n",
      "Mo Tu We Th Fr Sa Su      Mo Tu We Th Fr Sa Su      Mo Tu We Th Fr Sa Su\n",
      "                   1             1  2  3  4  5                   1  2  3\n",
      " 2  3  4  5  6  7  8       6  7  8  9 10 11 12       4  5  6  7  8  9 10\n",
      " 9 10 11 12 13 14 15      13 14 15 16 17 18 19      11 12 13 14 15 16 17\n",
      "16 17 18 19 20 21 22      20 21 22 23 24 25 26      18 19 20 21 22 23 24\n",
      "23 24 25 26 27 28 29      27 28 29 30               25 26 27 28 29 30 31\n",
      "30 31\n",
      "\n",
      "    January 2023\n",
      "Mo Tu We Th Fr Sa Su\n",
      "                   1\n",
      " 2  3  4  5  6  7  8\n",
      " 9 10 11 12 13 14 15\n",
      "16 17 18 19 20 21 22\n",
      "23 24 25 26 27 28 29\n",
      "30 31\n",
      "\n",
      "True\n"
     ]
    }
   ],
   "source": [
    "import calendar\n",
    "\n",
    "num1 = calendar.calendar(2023)        # return whole calendar of 2023\n",
    "print(num1)\n",
    "\n",
    "\n",
    "num1 = calendar.month(2023,1)        # return calendar of jan, 2023\n",
    "print(num1)\n",
    "\n",
    "\n",
    "num1 = calendar.isleap(2024)        # To check 2024 is leap or not\n",
    "print(num1)"
   ]
  },
  {
   "attachments": {},
   "cell_type": "markdown",
   "metadata": {},
   "source": [
    "#### 7) `os` module"
   ]
  },
  {
   "cell_type": "code",
   "execution_count": 65,
   "metadata": {},
   "outputs": [
    {
     "name": "stdout",
     "output_type": "stream",
     "text": [
      "Hi! I am M\n",
      "total 200\n",
      "-rw-rw-r-- 1 dell dell   9383 Jan 20 09:28 built_in_modules.ipynb\n",
      "-rw-rw-r-- 1 dell dell 118414 Jan  8 11:48 datatypes.png\n",
      "-rw-rw-r-- 1 dell dell  17353 Jan 10 23:57 dictionary.ipynb\n",
      "-rw-rw-r-- 1 dell dell   3467 Jan 11 00:44 forWhileLoops.ipynb\n",
      "-rw-rw-r-- 1 dell dell   5470 Jan 13 11:07 functions.ipynb\n",
      "-rw-rw-r-- 1 dell dell   3376 Jan 11 00:19 ifElse.ipynb\n",
      "-rw-rw-r-- 1 dell dell   5569 Jan 10 12:37 list.ipynb\n",
      "-rw-rw-r-- 1 dell dell  19176 Jan 10 12:15 strings.ipynb\n",
      "-rw-rw-r-- 1 dell dell   5551 Jan 10 10:05 variables.ipynb\n",
      "total 36\n",
      "-rw-rw-r-- 1 dell dell   212 Jan  6 21:53 firstProgram.html\n",
      "-rw-rw-r-- 1 dell dell 28587 Dec 27 09:44 setPython.ipynb\n",
      "drwxrwxr-x 3 dell dell  4096 Jan  8 11:42 tools and technologies in data science\n"
     ]
    },
    {
     "data": {
      "text/plain": [
       "0"
      ]
     },
     "execution_count": 65,
     "metadata": {},
     "output_type": "execute_result"
    }
   ],
   "source": [
    "import os\n",
    "\n",
    "\n",
    "# print(os.getcwd())                          # return current working directory\n",
    "# print(os.chdir('/home'))                    # change the current working directory\n",
    "# print(os.chdir('/home/dell/basicPython/'))  # change the current working directory\n",
    "# print(os.getcwd())                          # change the current working directory\n",
    "\n",
    "\n",
    "# print(os.listdir())                         # print all the files in the current working directory\n",
    "# print(os.listdir('/home/dell/'))            # print all the files in the given directory\n",
    "\n",
    "# print(os.getcwd()) \n",
    "# print(os.listdir())\n",
    "# os.mkdir('iqbalAfzal')                      # make a directory in the current working directory\n",
    "# print(os.listdir())\n",
    "\n",
    "\n",
    "# os.rmdir('iqbalAfzal')                       # delete file from current working directory\n",
    "# print(os.listdir())\n",
    "\n",
    "\n",
    "os.system('echo \"Hi! I am M\"')               # print all in the brackets\n",
    "os.system('ls -l')                           # print all the contents in current working directory\n",
    "os.system('ls -l   /home/dell/iqbalFolder/') # print all the content in the given directory                               "
   ]
  }
 ],
 "metadata": {
  "kernelspec": {
   "display_name": "Python 3",
   "language": "python",
   "name": "python3"
  },
  "language_info": {
   "codemirror_mode": {
    "name": "ipython",
    "version": 3
   },
   "file_extension": ".py",
   "mimetype": "text/x-python",
   "name": "python",
   "nbconvert_exporter": "python",
   "pygments_lexer": "ipython3",
   "version": "3.10.6"
  },
  "orig_nbformat": 4,
  "vscode": {
   "interpreter": {
    "hash": "916dbcbb3f70747c44a77c7bcd40155683ae19c65e1c03b4aa3499c5328201f1"
   }
  }
 },
 "nbformat": 4,
 "nbformat_minor": 2
}
