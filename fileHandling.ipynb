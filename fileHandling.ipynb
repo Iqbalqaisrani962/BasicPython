{
 "cells": [
  {
   "attachments": {},
   "cell_type": "markdown",
   "metadata": {},
   "source": [
    "# File Handling\n",
    "***There are four basic operations on files***\n",
    "- open\n",
    "- read\n",
    "- write\n",
    "- close\n",
    "### **Opening a file**\n",
    "***`open(file,  mode='rt')`***\n",
    "\n",
    "**FILE ACCESS MODES**\n",
    "\n",
    " * `Read Only (‘r’)`: It opens the text file for reading. If the file does not exist, raises I/O error.\n",
    " * `Read and Write (‘r+’)`: It opens the file for reading and writing. Raises I/O error if the file does not exists.\n",
    " * `Write Only (‘w’)`: It opens the file for writing only. For existing file, data is truncated. Creates the file if the file does not exists.\n",
    " * `Write and Read (‘w+’)`: It opens the file for reading and writing. For existing file, data is truncated. Creates the file if the file does not exists.\n",
    " * `Append Only (‘a’)`: It opens the file for writing, appending to the end off the file if it exists. The file is created if it does not exist.\n",
    " * `Append and Read (‘a+’)`: It opens the file for reading and writing. The file is created if it does not exist. The data being written will be inserted at the end, after the existing data.\n",
    " * `Exclusive creation (‘x’)`: It Opens a file for exclusive creation. If the file already exists, the operation fails.\n",
    " \n",
    "Along with above file access modes, you can also specify how file should be handled as text or binary\n",
    "  * `Text file (‘t’)`: Opens a file in text mode\n",
    "  * `Binary file (‘b’)`: Opens a file in binary mode"
   ]
  },
  {
   "cell_type": "code",
   "execution_count": 3,
   "metadata": {},
   "outputs": [
    {
     "data": {
      "text/plain": [
       "<_io.BufferedRandom name='image.png'>"
      ]
     },
     "execution_count": 3,
     "metadata": {},
     "output_type": "execute_result"
    }
   ],
   "source": [
    "# open a text file namede f1.txt placed in the current working directory with read write mode\n",
    "fd1 = open('f1.txt','rt+')\n",
    "fd1\n",
    "\n",
    "\n",
    "# open a binary file named image.png placed in current working directory with read write mode\n",
    "fd1 = open('image.png', 'rb+')\n",
    "fd1"
   ]
  },
  {
   "attachments": {},
   "cell_type": "markdown",
   "metadata": {},
   "source": [
    "### **Reading a file**\n",
    "1) Using `fd.read(size=-1)` method\n",
    "2) Using `fd.readline(size=-1)` method\n",
    "3) Using `fd.readlines(sizehint=-1)` method\n",
    "#### 1) Using `fd.read(size=-1)` method"
   ]
  },
  {
   "cell_type": "code",
   "execution_count": 10,
   "metadata": {},
   "outputs": [
    {
     "name": "stdout",
     "output_type": "stream",
     "text": [
      "Learning P <class 'str'>\n",
      "First time readaing Learning Python is Fun!\n",
      "Apple\n",
      "Banana\n",
      "Oranges <class 'str'>\n",
      "Second time reading  <class 'str'>\n",
      "Reading 3rd time Learning Python is Fun!\n",
      "Apple\n",
      "Banana\n",
      "Oranges <class 'str'>\n"
     ]
    }
   ],
   "source": [
    "fd1 = open('text1.txt','r')    # open file for read purpose only\n",
    "fd1 = open('text1.txt')        # open file for reading mode as bydefault mode is reading mode\n",
    "fd1 = open('text1.txt','rt')   # open file for reading writing mode\n",
    "\n",
    "rv1 = fd1.read(10)             # read only 10 characters\n",
    "print(rv1,type(rv1))\n",
    "\n",
    "fd1 = open('text1.txt')        # read all the files\n",
    "rv1 = fd1.read()             \n",
    "print(\"First time readaing:\",rv1,type(rv1))\n",
    "\n",
    "\n",
    "rv1 = fd1.read()               # will read nothing as after reading first time, offset is at the end of the file (read reads from current offset)\n",
    "print(\"Second time reading:\",rv1,type(rv1))\n",
    "\n",
    "\n",
    "fd1.close()                    # after closing, if we try to read file without opening, it will generate an error\n",
    "fd1 = open('text1.txt')\n",
    "rv1 = fd1.read()\n",
    "print(\"Reading 3rd time:\", rv1, type(rv1))\n",
    "fd1.close()"
   ]
  },
  {
   "attachments": {},
   "cell_type": "markdown",
   "metadata": {},
   "source": [
    "#### 2) Using `fd.readline(size=-1)` method"
   ]
  },
  {
   "cell_type": "code",
   "execution_count": 15,
   "metadata": {},
   "outputs": [
    {
     "name": "stdout",
     "output_type": "stream",
     "text": [
      "Learning P\n",
      "ython is F\n",
      "un!\n",
      "\n"
     ]
    }
   ],
   "source": [
    "fd1 = open('text1.txt','r')\n",
    "rv1 = fd1.readline(10)           # will read 10 characters of the first line\n",
    "print(rv1)\n",
    "rv1 = fd1.readline(10)           # will read 10 characters of the 2nd line\n",
    "print(rv1)\n",
    "rv1 = fd1.readline()           # will read all characters after 10th index the 2nd line as offset is at the 10th index of 2nd line\n",
    "print(rv1)\n",
    "fd1.close()"
   ]
  },
  {
   "attachments": {},
   "cell_type": "markdown",
   "metadata": {},
   "source": [
    "#### 3) Using `fd.readlines(sizehint=-1)` method"
   ]
  },
  {
   "cell_type": "code",
   "execution_count": 27,
   "metadata": {},
   "outputs": [
    {
     "name": "stdout",
     "output_type": "stream",
     "text": [
      "['Learning Python is Fun!\\n', 'Apple\\n', 'Banana\\n', 'Oranges']\n",
      "['Learning Python is Fun!\\n', 'Apple\\n']\n"
     ]
    }
   ],
   "source": [
    "fd1 = open('text1.txt','r')\n",
    "rv1 = fd1.readlines()             # will return all the line in a list\n",
    "print(rv1)\n",
    "fd1.close()\n",
    "\n",
    "fd1 = open('text1.txt','r')\n",
    "rv1 = fd1.readlines(24)           # will return 24 characters of how much lines\n",
    "print(rv1)\n",
    "fd1.close()\n"
   ]
  },
  {
   "attachments": {},
   "cell_type": "markdown",
   "metadata": {},
   "source": [
    "### **Closing Files**"
   ]
  },
  {
   "cell_type": "code",
   "execution_count": 2,
   "metadata": {},
   "outputs": [
    {
     "name": "stdout",
     "output_type": "stream",
     "text": [
      "Hi! my name is muhammad iqbal and i am from taunsa shareef\n",
      "\n"
     ]
    }
   ],
   "source": [
    "# to avoide close exceptions\n",
    "try:\n",
    "    fd1 = open('text1.txt','r')\n",
    "finally:\n",
    "    fd1.close()\n",
    "\n",
    "\n",
    "\n",
    "# open with 'with' method\n",
    "with open('text1.txt','r') as fd1:\n",
    "    print(fd1.read())\n",
    "\n"
   ]
  },
  {
   "attachments": {},
   "cell_type": "markdown",
   "metadata": {},
   "source": [
    "### Changing file offset using `fd.seek()` method\n",
    "- seek(offset,whence)\n",
    "    - offset: number to positions to move forward or backword\n",
    "    - whence: \n",
    "        - 0--> Start of the stream\n",
    "        - 1--> current stream position\n",
    "        - 2--> end of the stream"
   ]
  },
  {
   "cell_type": "code",
   "execution_count": 8,
   "metadata": {},
   "outputs": [
    {
     "name": "stdout",
     "output_type": "stream",
     "text": [
      "0\n",
      "59\n",
      "59\n",
      "0\n",
      "50\n"
     ]
    }
   ],
   "source": [
    "# to check the current position of the offset\n",
    "fd1 = open('text1.txt','r')\n",
    "rv1 = fd1.seek(0,1)           \n",
    "print(rv1)\n",
    "fd1.read()\n",
    "rv1 = fd1.seek(0,1)\n",
    "print(rv1)\n",
    "fd1.close()\n",
    "\n",
    "\n",
    "\n",
    "# to move the offset to the begining of the file\n",
    "fd1 = open('text1.txt','a')\n",
    "rv1 = fd1.seek(0,1)\n",
    "print(rv1)\n",
    "rv1 = fd1.seek(0,0)           \n",
    "print(rv1)\n",
    "\n",
    "\n",
    "# to move the offset to the 50 position forward from the 0 index\n",
    "rv1 = fd1.seek(50)         # is equal to seek(50,0)\n",
    "print(rv1)\n",
    "fd1.close()"
   ]
  },
  {
   "attachments": {},
   "cell_type": "markdown",
   "metadata": {},
   "source": [
    "### **Iterating through the contents of file**"
   ]
  },
  {
   "cell_type": "code",
   "execution_count": 9,
   "metadata": {},
   "outputs": [
    {
     "name": "stdout",
     "output_type": "stream",
     "text": [
      "Hi! my name is muhammad iqbal and i am from taunsa shareef\n",
      "\n"
     ]
    }
   ],
   "source": [
    "with open('text1.txt','r') as df1:\n",
    "    for i in df1:\n",
    "        print(i)"
   ]
  },
  {
   "attachments": {},
   "cell_type": "markdown",
   "metadata": {},
   "source": [
    "### **Counting the number of words**"
   ]
  },
  {
   "cell_type": "code",
   "execution_count": 15,
   "metadata": {},
   "outputs": [
    {
     "name": "stdout",
     "output_type": "stream",
     "text": [
      "No of Words 12\n",
      "Hi! my name is muhammad iqbal and i am from taunsa shareef\n",
      "\n"
     ]
    }
   ],
   "source": [
    "with open('text1.txt','r') as df1:\n",
    "    noOfWords = 0\n",
    "    for line in df1:\n",
    "        listOfWords = line.split(' ')\n",
    "        noOfWords = noOfWords + len(listOfWords)\n",
    "    print(\"No of Words\",noOfWords)\n",
    "    df1.seek(0,0)\n",
    "    rv1 = df1.read()\n",
    "    print(rv1)"
   ]
  },
  {
   "cell_type": "code",
   "execution_count": null,
   "metadata": {},
   "outputs": [],
   "source": []
  }
 ],
 "metadata": {
  "kernelspec": {
   "display_name": "Python 3",
   "language": "python",
   "name": "python3"
  },
  "language_info": {
   "codemirror_mode": {
    "name": "ipython",
    "version": 3
   },
   "file_extension": ".py",
   "mimetype": "text/x-python",
   "name": "python",
   "nbconvert_exporter": "python",
   "pygments_lexer": "ipython3",
   "version": "3.10.6"
  },
  "orig_nbformat": 4,
  "vscode": {
   "interpreter": {
    "hash": "916dbcbb3f70747c44a77c7bcd40155683ae19c65e1c03b4aa3499c5328201f1"
   }
  }
 },
 "nbformat": 4,
 "nbformat_minor": 2
}
