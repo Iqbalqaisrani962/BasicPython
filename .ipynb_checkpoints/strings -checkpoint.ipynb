{
 "cells": [
  {
   "cell_type": "markdown",
   "id": "3f1e3d91",
   "metadata": {},
   "source": [
    "# Strings in Python"
   ]
  },
  {
   "cell_type": "code",
   "execution_count": 7,
   "id": "78ea015b",
   "metadata": {},
   "outputs": [
    {
     "name": "stdout",
     "output_type": "stream",
     "text": [
      "I'm currently working as an SQA Engineer\n",
      "Hello World\n",
      "                     How are you dear\n"
     ]
    }
   ],
   "source": [
    "str1 = '''Hello World\n",
    "                     How are you dear'''\n",
    "str2 = \"My name is Muhammad Iqbal, I am Bascially from Tunsa shareef and graduated from UET Lahore in 2021 from Computer\"\n",
    "str3 = \"I'm currently working as an SQA Engineer\"\n",
    "print(str3)\n",
    "print(str1)"
   ]
  },
  {
   "cell_type": "markdown",
   "id": "34af7bc9",
   "metadata": {},
   "source": [
    "### Accessing character of a Sequence (String, Tuple, List)"
   ]
  },
  {
   "cell_type": "code",
   "execution_count": 13,
   "id": "a302d1eb",
   "metadata": {},
   "outputs": [
    {
     "name": "stdout",
     "output_type": "stream",
     "text": [
      "str1[1] e\n"
     ]
    }
   ],
   "source": [
    "str1[1]\n",
    "str2[-3]\n",
    "print(\"str1[1]\", str1[1])"
   ]
  },
  {
   "cell_type": "code",
   "execution_count": 15,
   "id": "39781e9e",
   "metadata": {},
   "outputs": [
    {
     "name": "stdout",
     "output_type": "stream",
     "text": [
      "index of l in str1 2\n"
     ]
    }
   ],
   "source": [
    "# To find the index of a character in a string\n",
    "print(\"index of l in str1\", str1.index('l'))"
   ]
  },
  {
   "cell_type": "markdown",
   "id": "f7cc0162",
   "metadata": {},
   "source": [
    "### Strings are immutable"
   ]
  },
  {
   "cell_type": "code",
   "execution_count": 25,
   "id": "d006692a",
   "metadata": {},
   "outputs": [
    {
     "name": "stdout",
     "output_type": "stream",
     "text": [
      "2280041198576\n",
      "2280040405232\n"
     ]
    }
   ],
   "source": [
    "# str1[3] = 'l'            # As strings are immutable, so we cannnot change a string and it will generate an error\n",
    "str5 = \"Iqbal\"\n",
    "print(id(str5))\n",
    "str5 = \"Afzal\"\n",
    "print(id(str5))           # both str5 point to different locations, now only \"afzal\" is accessible and \"iqbal\" is garbage "
   ]
  },
  {
   "cell_type": "markdown",
   "id": "3a244e29",
   "metadata": {},
   "source": [
    "### Slicing a String\n",
    "- **string[start:end:step]**\n",
    "- **End point is exclusive, end point will not be included**"
   ]
  },
  {
   "cell_type": "code",
   "execution_count": 34,
   "id": "c746f58e",
   "metadata": {},
   "outputs": [
    {
     "name": "stdout",
     "output_type": "stream",
     "text": [
      "!Ia sn aspol\n",
      "! I a\n",
      "ylno pastaw gnisu ma I !yH\n",
      " I !yH\n"
     ]
    }
   ],
   "source": [
    "str1 = \"Hy! I am using watsap only\"\n",
    "print (str1[2::2])\n",
    "print(str1[2:7])\n",
    "print(str1[::-1])\n",
    "print(str1[5::-1])"
   ]
  },
  {
   "cell_type": "markdown",
   "id": "546529cb",
   "metadata": {},
   "source": [
    "### String Concatenation"
   ]
  },
  {
   "cell_type": "code",
   "execution_count": 42,
   "id": "a0b815a4",
   "metadata": {},
   "outputs": [
    {
     "name": "stdout",
     "output_type": "stream",
     "text": [
      "HelloWorld\n",
      "HelloWorld\n",
      "IqbalelloWorld\n"
     ]
    }
   ],
   "source": [
    "str1 = \"Hello\"\n",
    "str2 = \"World\"\n",
    "print(str1 + str2)\n",
    "str3 = str1 + str2\n",
    "print(str3)\n",
    "print (\"Iqbal\" + str3[1:])"
   ]
  },
  {
   "cell_type": "markdown",
   "id": "96f3da37",
   "metadata": {},
   "source": [
    "### Creating Large String"
   ]
  },
  {
   "cell_type": "code",
   "execution_count": 43,
   "id": "eed0e377",
   "metadata": {},
   "outputs": [
    {
     "name": "stdout",
     "output_type": "stream",
     "text": [
      "HelloHelloHelloHelloHelloHelloHelloHelloHelloHelloHelloHelloHelloHelloHelloHelloHelloHelloHelloHelloHelloHelloHelloHelloHelloHelloHelloHelloHelloHelloHelloHelloHelloHelloHelloHelloHelloHelloHelloHelloHelloHelloHelloHelloHelloHelloHelloHelloHelloHelloHelloHelloHelloHelloHelloHelloHelloHelloHelloHelloHelloHelloHelloHelloHelloHelloHelloHelloHelloHelloHelloHelloHelloHelloHelloHelloHelloHelloHelloHelloHelloHelloHelloHelloHelloHelloHelloHelloHelloHelloHelloHelloHelloHelloHelloHelloHelloHelloHelloHello\n"
     ]
    }
   ],
   "source": [
    "print (str1*100)"
   ]
  },
  {
   "cell_type": "markdown",
   "id": "6598f37b",
   "metadata": {},
   "source": [
    "### Python Methods and Difference b/w Method & Functions\n",
    "- **Methods are the functions defined in the class that can perform actions on the object of that class**\n",
    "- **Functions are the actions that belong to data thing object**"
   ]
  },
  {
   "cell_type": "code",
   "execution_count": 54,
   "id": "0e8e419d",
   "metadata": {},
   "outputs": [
    {
     "name": "stdout",
     "output_type": "stream",
     "text": [
      "My name is muhammad iqbal. i am from taunsa shreef\n",
      "2\n",
      "False\n"
     ]
    }
   ],
   "source": [
    "# capitalize()\tConverts the first character to upper case and the rest are converted to lower case\n",
    "a = \"my name is muhammad iqbal. I am from taunsa shreef\"\n",
    "b = a.capitalize()\n",
    "print(b)\n",
    "# count()\tReturns the number of times a specified value occurs in a string\n",
    "# string.count(value, start, end)\n",
    "b = a.count('f', 0, 50)\n",
    "print (b)\n",
    "# endswith()\tReturns true if the string ends with the specified value\n",
    "# string.endswith(value, start, end)\n",
    "b = a.endswith('shareef', 0, 50)\n",
    "print(b)"
   ]
  }
 ],
 "metadata": {
  "kernelspec": {
   "display_name": "Python 3 (ipykernel)",
   "language": "python",
   "name": "python3"
  },
  "language_info": {
   "codemirror_mode": {
    "name": "ipython",
    "version": 3
   },
   "file_extension": ".py",
   "mimetype": "text/x-python",
   "name": "python",
   "nbconvert_exporter": "python",
   "pygments_lexer": "ipython3",
   "version": "3.9.13"
  }
 },
 "nbformat": 4,
 "nbformat_minor": 5
}
