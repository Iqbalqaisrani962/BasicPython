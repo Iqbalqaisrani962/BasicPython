{
 "cells": [
  {
   "cell_type": "markdown",
   "id": "23e4fc5e",
   "metadata": {},
   "source": [
    " # This is python tutorial"
   ]
  },
  {
   "cell_type": "markdown",
   "id": "ec5e4c8e",
   "metadata": {},
   "source": [
    "### Jupyter Shortcuts\n",
    "- Esc --> To make cell blue, \n",
    "- y   --> To make cell codeable\n",
    "- m   --> To make cell markdown\n",
    "- $a+b=c$ --> To write arithmetic formulas (must start and end with $ sign)\n",
    "- use ipython as a calculator, 1) open anaconda editor  2) type \"ipython\"\n",
    "- Enter few characters of a variable, and press '*tab*' to autoshow options\n",
    "- Click on any function, then press '*shift+tab*' to show the main functionality of a function"
   ]
  },
  {
   "cell_type": "markdown",
   "id": "4b0edcd4",
   "metadata": {},
   "source": [
    "This is out first program in python . Just starts Here\n",
    "\n",
    "print (\"Hellow World\")\n",
    "\n",
    "$a=b+c$\n",
    "\n",
    "# Data Types\n",
    "### Mutable Data Types\n",
    " ***Objects whose value can change are said to be mutable***\n",
    " - List\n",
    " - Dictionary\n",
    " - Set\n",
    " \n",
    "### Immuable Data Types\n",
    " objects whose value is unchangeable once they are created are called immutable\n",
    "- Numbers (integer, bool, float, complex)\n",
    "- String\n",
    "- Tuple \n",
    " "
   ]
  },
  {
   "cell_type": "markdown",
   "id": "cfd3735d",
   "metadata": {},
   "source": [
    "# Variables\n",
    " Three properties are associated with a variable\n",
    " - **Identity** --> It can be considered as an address of memory where an object is stored and cannot be changed, *id()* function return identity\n",
    " - **Type**     --> It defines possible values and operations. *Type()* function return the type of a variable\n",
    " - **Value**    --> Actual Data stored in a variable"
   ]
  },
  {
   "cell_type": "code",
   "execution_count": 26,
   "id": "7dd3974b",
   "metadata": {},
   "outputs": [
    {
     "name": "stdout",
     "output_type": "stream",
     "text": [
      "False\n",
      "<class 'bool'>\n",
      "5\n",
      "23.6\n",
      "<class 'float'>\n",
      "Variable   Type     Data/Info\n",
      "-----------------------------\n",
      "a          int      5\n",
      "abcdefgh   int      233\n",
      "b          float    23.6\n",
      "c          bool     False\n",
      "var1       str      Data Science\n",
      "ver1       str      Data Science\n",
      "x          int      2\n",
      "y          float    3.9\n",
      "z          str      My Name is Muhammad Iqbal\n",
      "The value of a is 5 , Type of a is <class 'int'> and id of a is 2579032926640\n",
      "The value of b is 23.6 , Type of b is <class 'float'> and id of b is 2577012702000\n",
      "<class 'int'>\n"
     ]
    },
    {
     "ename": "NameError",
     "evalue": "name 'z' is not defined",
     "output_type": "error",
     "traceback": [
      "\u001b[1;31m---------------------------------------------------------------------------\u001b[0m",
      "\u001b[1;31mNameError\u001b[0m                                 Traceback (most recent call last)",
      "\u001b[1;32m~\\AppData\\Local\\Temp\\ipykernel_11260\\3295819362.py\u001b[0m in \u001b[0;36m<module>\u001b[1;34m\u001b[0m\n\u001b[0;32m     16\u001b[0m \u001b[1;32mdel\u001b[0m \u001b[0mz\u001b[0m\u001b[1;33m\u001b[0m\u001b[1;33m\u001b[0m\u001b[0m\n\u001b[0;32m     17\u001b[0m \u001b[0mid\u001b[0m\u001b[1;33m(\u001b[0m\u001b[0mx\u001b[0m\u001b[1;33m)\u001b[0m\u001b[1;33m\u001b[0m\u001b[1;33m\u001b[0m\u001b[0m\n\u001b[1;32m---> 18\u001b[1;33m \u001b[0mprint\u001b[0m\u001b[1;33m(\u001b[0m\u001b[0mz\u001b[0m\u001b[1;33m)\u001b[0m\u001b[1;33m\u001b[0m\u001b[1;33m\u001b[0m\u001b[0m\n\u001b[0m",
      "\u001b[1;31mNameError\u001b[0m: name 'z' is not defined"
     ]
    }
   ],
   "source": [
    " a = 5\n",
    " b = 23.6\n",
    "c = a > b                    // Bool Variable c\n",
    "print (c)                    // Print value of bool variable c\n",
    "print (type(c))              //print the type of variable c\n",
    "abcdefgh = 233\n",
    "print (a)\n",
    "print (b)\n",
    "# %whos\n",
    "print (type(b))\n",
    "x,y,z = 2, 3.9, \"My Name is Muhammad Iqbal\"\n",
    "%whos\n",
    "print(\"The value of a is\", a, \", Type of a is\", type(a),\"and id of a is\", id(a))\n",
    "print(\"The value of b is\", b,\", Type of b is\", type(b), \"and id of b is\",   id(b))\n",
    "print(type(abcdefgh))\n",
    "del z\n",
    "id(x)\n",
    "print(z)"
   ]
  },
  {
   "cell_type": "markdown",
   "id": "41d27b00",
   "metadata": {},
   "source": [
    "# Variables Advanced Concepts\n",
    "- Note that the string object \"Subject\" has become orphaned object, as no variable is refering to it now. This is because the reference variable *ver1* is now pointing/refering to new object \"Data Science\". All orphan objects are reaped by Python Garbage Collector "
   ]
  },
  {
   "cell_type": "code",
   "execution_count": 23,
   "id": "96364828",
   "metadata": {},
   "outputs": [
    {
     "name": "stdout",
     "output_type": "stream",
     "text": [
      "Subject\n",
      "Data Science\n",
      "2577006585328\n",
      "(2+5j)\n"
     ]
    }
   ],
   "source": [
    "var1 = \"Subject\"\n",
    "print (var1)\n",
    "# var1[1] = 'b'\n",
    "var1 = \"Data Science\"\n",
    "print (var1)\n",
    "print (id(var1))\n",
    "y=complex(2,5)\n",
    "print(y)"
   ]
  },
  {
   "cell_type": "markdown",
   "id": "64b53750",
   "metadata": {},
   "source": [
    "# Operators\n",
    "### Jupyter Notebook\n",
    "git reset text1.txt      --> To unstage the changes <br>\n",
    "git checkout text1.txt   --> To remove changes from file <br>\n",
    "git checkout .           --> To remove changes from all files <br>\n",
    "//                       --> Floor Division (Divide and remove decimal from answer) <br>\n",
    "**                       --> To the power ofs"
   ]
  },
  {
   "cell_type": "code",
   "execution_count": 8,
   "id": "abe78e52",
   "metadata": {},
   "outputs": [
    {
     "data": {
      "text/plain": [
       "''"
      ]
     },
     "execution_count": 8,
     "metadata": {},
     "output_type": "execute_result"
    }
   ],
   "source": [
    "10+12\n",
    "_"
   ]
  }
 ],
 "metadata": {
  "kernelspec": {
   "display_name": "Python 3 (ipykernel)",
   "language": "python",
   "name": "python3"
  },
  "language_info": {
   "codemirror_mode": {
    "name": "ipython",
    "version": 3
   },
   "file_extension": ".py",
   "mimetype": "text/x-python",
   "name": "python",
   "nbconvert_exporter": "python",
   "pygments_lexer": "ipython3",
   "version": "3.9.13"
  }
 },
 "nbformat": 4,
 "nbformat_minor": 5
}
