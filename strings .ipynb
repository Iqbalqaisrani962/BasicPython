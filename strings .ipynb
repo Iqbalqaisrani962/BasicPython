{
 "cells": [
  {
   "cell_type": "markdown",
   "id": "e0a95f48",
   "metadata": {},
   "source": [
    "# Strings in Python"
   ]
  },
  {
   "cell_type": "code",
   "execution_count": 7,
   "id": "aa8c7374",
   "metadata": {},
   "outputs": [
    {
     "name": "stdout",
     "output_type": "stream",
     "text": [
      "I'm currently working as an SQA Engineer\n",
      "Hello World\n",
      "                     How are you dear\n"
     ]
    }
   ],
   "source": [
    "str1 = '''Hello World\n",
    "                     How are you dear'''\n",
    "str2 = \"My name is Muhammad Iqbal, I am Bascially from Tunsa shareef and graduated from UET Lahore in 2021 from Computer\"\n",
    "str3 = \"I'm currently working as an SQA Engineer\"\n",
    "print(str3)\n",
    "print(str1)"
   ]
  },
  {
   "cell_type": "markdown",
   "id": "9fb3d6f1",
   "metadata": {},
   "source": [
    "### Accessing character of a Sequence (String, Tuple, List)"
   ]
  },
  {
   "cell_type": "code",
   "execution_count": 13,
   "id": "d48f2939",
   "metadata": {},
   "outputs": [
    {
     "name": "stdout",
     "output_type": "stream",
     "text": [
      "str1[1] e\n"
     ]
    }
   ],
   "source": [
    "str1[1]\n",
    "str2[-3]\n",
    "print(\"str1[1]\", str1[1])"
   ]
  },
  {
   "cell_type": "code",
   "execution_count": 15,
   "id": "8c5cb56f",
   "metadata": {},
   "outputs": [
    {
     "name": "stdout",
     "output_type": "stream",
     "text": [
      "index of l in str1 2\n"
     ]
    }
   ],
   "source": [
    "# To find the index of a character in a string\n",
    "print(\"index of l in str1\", str1.index('l'))"
   ]
  },
  {
   "cell_type": "markdown",
   "id": "9304fbf8",
   "metadata": {},
   "source": [
    "### Strings are immutable"
   ]
  },
  {
   "cell_type": "code",
   "execution_count": 25,
   "id": "c2350b85",
   "metadata": {},
   "outputs": [
    {
     "name": "stdout",
     "output_type": "stream",
     "text": [
      "2280041198576\n",
      "2280040405232\n"
     ]
    }
   ],
   "source": [
    "# str1[3] = 'l'            # As strings are immutable, so we cannnot change a string and it will generate an error\n",
    "str5 = \"Iqbal\"\n",
    "print(id(str5))\n",
    "str5 = \"Afzal\"\n",
    "print(id(str5))           # both str5 point to different locations, now only \"afzal\" is accessible and \"iqbal\" is garbage "
   ]
  },
  {
   "cell_type": "markdown",
   "id": "fce1d2b6",
   "metadata": {},
   "source": [
    "### Slicing a String\n",
    "- **string[start:end:step]**\n",
    "- **End point is exclusive, end point will not be included**"
   ]
  },
  {
   "cell_type": "code",
   "execution_count": 34,
   "id": "e3de7cd9",
   "metadata": {},
   "outputs": [
    {
     "name": "stdout",
     "output_type": "stream",
     "text": [
      "!Ia sn aspol\n",
      "! I a\n",
      "ylno pastaw gnisu ma I !yH\n",
      " I !yH\n"
     ]
    }
   ],
   "source": [
    "str1 = \"Hy! I am using watsap only\"\n",
    "print (str1[2::2])\n",
    "print(str1[2:7])\n",
    "print(str1[::-1])\n",
    "print(str1[5::-1])"
   ]
  },
  {
   "cell_type": "markdown",
   "id": "978f9d47",
   "metadata": {},
   "source": [
    "### String Concatenation"
   ]
  },
  {
   "cell_type": "code",
   "execution_count": 42,
   "id": "9b86d6a0",
   "metadata": {},
   "outputs": [
    {
     "name": "stdout",
     "output_type": "stream",
     "text": [
      "HelloWorld\n",
      "HelloWorld\n",
      "IqbalelloWorld\n"
     ]
    }
   ],
   "source": [
    "str1 = \"Hello\"\n",
    "str2 = \"World\"\n",
    "print(str1 + str2)\n",
    "str3 = str1 + str2\n",
    "print(str3)\n",
    "print (\"Iqbal\" + str3[1:])"
   ]
  },
  {
   "cell_type": "markdown",
   "id": "62e0e112",
   "metadata": {},
   "source": [
    "### Creating Large String"
   ]
  },
  {
   "cell_type": "code",
   "execution_count": 43,
   "id": "8335e47f",
   "metadata": {},
   "outputs": [
    {
     "name": "stdout",
     "output_type": "stream",
     "text": [
      "HelloHelloHelloHelloHelloHelloHelloHelloHelloHelloHelloHelloHelloHelloHelloHelloHelloHelloHelloHelloHelloHelloHelloHelloHelloHelloHelloHelloHelloHelloHelloHelloHelloHelloHelloHelloHelloHelloHelloHelloHelloHelloHelloHelloHelloHelloHelloHelloHelloHelloHelloHelloHelloHelloHelloHelloHelloHelloHelloHelloHelloHelloHelloHelloHelloHelloHelloHelloHelloHelloHelloHelloHelloHelloHelloHelloHelloHelloHelloHelloHelloHelloHelloHelloHelloHelloHelloHelloHelloHelloHelloHelloHelloHelloHelloHelloHelloHelloHelloHello\n"
     ]
    }
   ],
   "source": [
    "print (str1*100)"
   ]
  },
  {
   "cell_type": "markdown",
   "id": "58395df0",
   "metadata": {},
   "source": [
    "### Python Methods and Difference b/w Method & Functions\n",
    "- **Methods are the functions defined in the class that can perform actions on the object of that class**\n",
    "- **Functions are the actions that belong to data thing object**"
   ]
  },
  {
   "cell_type": "code",
   "execution_count": 68,
   "id": "65bc235e",
   "metadata": {},
   "outputs": [
    {
     "name": "stdout",
     "output_type": "stream",
     "text": [
      "My name is muhammad iqbal. i am from taunsa shreef\n",
      "2\n",
      "True\n",
      "32\n",
      "My name is John, I'm 36\n",
      "My name is John, I'm 36\n",
      "My name is John, I'm 36\n",
      "My name is 36, I'm John\n",
      "John#Peter#Vicky\n",
      "John Peter Vicky\n",
      "hello my friends\n",
      "three three was a race horse, two two was one too.\n",
      "['welcome', 'to', 'the', 'jungle']\n",
      "HELLO MY FRIENDS\n"
     ]
    }
   ],
   "source": [
    "# capitalize()\tConverts the first character to upper case and the rest are converted to lower case\n",
    "a = \"my name is muhammad iqbal. I am from taunsa shreef\"\n",
    "b = a.capitalize()\n",
    "print(b)\n",
    "# count()\tReturns the number of times a specified value occurs in a string\n",
    "# string.count(value, start, end)\n",
    "b = a.count('f', 0, 50)\n",
    "print (b)\n",
    "# endswith()\tReturns true if the string ends with the specified value\n",
    "# string.endswith(value, start, end)\n",
    "b = a.endswith('shreef', 0, 50)\n",
    "print(b)\n",
    "# find()\tSearches the string for a specified value and returns the position of where it was found\n",
    "# string.find(value, start, end)\n",
    "b = a.find('f', 0, 50)\n",
    "print(b)\n",
    "# format()\tFormats specified values in a string\n",
    "txt1 = \"My name is {fname}, I'm {age}\".format(fname = \"John\", age = 36)\n",
    "txt2 = \"My name is {0}, I'm {1}\".format(\"John\",36)\n",
    "txt3 = \"My name is {}, I'm {}\".format(\"John\",36)\n",
    "txt5 = \"My name is {1}, I'm {0}\".format(\"John\",36)\n",
    "print(txt1)\n",
    "print(txt2)\n",
    "print(txt3)\n",
    "print(txt5)\n",
    "# join()\tConverts the elements of an iterable into a string\n",
    "myTuple = (\"John\", \"Peter\", \"Vicky\")\n",
    "\n",
    "x = \"#\".join(myTuple)\n",
    "y = \" \".join(myTuple)\n",
    "print(x)\n",
    "print(y)\n",
    "# lower()\tConverts a string into lower case\n",
    "txt = \"Hello my FRIENDS\"\n",
    "x = txt.lower()\n",
    "print(x)\n",
    "# replace()\tReturns a string where a specified value is replaced with a specified value\n",
    "# string.replace(oldvalue, newvalue, count)\n",
    "txt = \"one one was a race horse, two two was one too.\"\n",
    "x = txt.replace(\"one\", \"three\", 2)\n",
    "print(x)\n",
    "# split()\tSplits the string at the specified separator, and returns a list\n",
    "txt = \"welcome to the jungle\"\n",
    "x = txt.split()\n",
    "print(x)\n",
    "# upper()\tConverts a string into upper case\n",
    "txt = \"Hello my friends\"\n",
    "x = txt.upper()\n",
    "print(x)"
   ]
  }
 ],
 "metadata": {
  "kernelspec": {
   "display_name": "Python 3 (ipykernel)",
   "language": "python",
   "name": "python3"
  },
  "language_info": {
   "codemirror_mode": {
    "name": "ipython",
    "version": 3
   },
   "file_extension": ".py",
   "mimetype": "text/x-python",
   "name": "python",
   "nbconvert_exporter": "python",
   "pygments_lexer": "ipython3",
   "version": "3.9.13"
  }
 },
 "nbformat": 4,
 "nbformat_minor": 5
}
