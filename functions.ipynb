{
 "cells": [
  {
   "attachments": {},
   "cell_type": "markdown",
   "metadata": {},
   "source": [
    "# Functions"
   ]
  },
  {
   "cell_type": "code",
   "execution_count": 8,
   "metadata": {},
   "outputs": [
    {
     "name": "stdout",
     "output_type": "stream",
     "text": [
      "Help on function fun1 in module __main__:\n",
      "\n",
      "fun1(a)\n",
      "    This is my introduction function\n",
      "\n"
     ]
    }
   ],
   "source": [
    "def fun1(a):\n",
    "    '''This is my introduction function'''\n",
    "    count = 0\n",
    "    for a in a:\n",
    "        count = count + 1\n",
    "    return count\n",
    "# str = [1,2,3,4,5,8,6]\n",
    "str = \"Hello! mu d i am from district taunsa\"\n",
    "fun1(str)\n",
    "help(fun1)\n",
    "\n",
    "\n",
    "\n",
    "# def mylen(a):\n",
    "#     count = 0\n",
    "#     for a in a:\n",
    "#         count = count +1\n",
    "#     return count\n",
    "\n",
    "\n",
    "# str = [1 ,2 ,6, 8]\n",
    "# mylen(str)"
   ]
  },
  {
   "cell_type": "code",
   "execution_count": 6,
   "metadata": {},
   "outputs": [
    {
     "data": {
      "text/plain": [
       "12"
      ]
     },
     "execution_count": 6,
     "metadata": {},
     "output_type": "execute_result"
    }
   ],
   "source": [
    "# Sum of two numbers through functions\n",
    "def sum1(a,b):\n",
    "    return (a+b)\n",
    "\n",
    "sum1(9,3)"
   ]
  },
  {
   "cell_type": "code",
   "execution_count": 11,
   "metadata": {},
   "outputs": [
    {
     "name": "stdout",
     "output_type": "stream",
     "text": [
      "Your name is iqbal afzal\n"
     ]
    }
   ],
   "source": [
    "# returing multiple values from a function\n",
    "def name(fname, lname):\n",
    "    return fname, lname\n",
    "# name(2,3)\n",
    "firstName, lastName = name('iqbal', 'afzal')\n",
    "print(\"Your name is\", firstName, lastName)"
   ]
  }
 ],
 "metadata": {
  "kernelspec": {
   "display_name": "Python 3",
   "language": "python",
   "name": "python3"
  },
  "language_info": {
   "codemirror_mode": {
    "name": "ipython",
    "version": 3
   },
   "file_extension": ".py",
   "mimetype": "text/x-python",
   "name": "python",
   "nbconvert_exporter": "python",
   "pygments_lexer": "ipython3",
   "version": "3.10.8"
  },
  "orig_nbformat": 4,
  "vscode": {
   "interpreter": {
    "hash": "c938f314aa5630f5fcf3b4aad588f4edd0dbe140357325e666a8226cee1b2bf6"
   }
  }
 },
 "nbformat": 4,
 "nbformat_minor": 2
}
