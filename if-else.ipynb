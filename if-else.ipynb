{
 "cells": [
  {
   "attachments": {},
   "cell_type": "markdown",
   "metadata": {},
   "source": [
    "# If-Else"
   ]
  },
  {
   "attachments": {},
   "cell_type": "markdown",
   "metadata": {},
   "source": [
    "In Python the following values evaluate to `False` (they are often called *falsy* values):\n",
    "1. The value `False` itself\n",
    "2. The integer `0`\n",
    "3. The float `0.0`\n",
    "4. All the below values are not equal to False \n",
    "<!-- 4. The empty value `None` (None is not False or Ture, it is just another value called none means empty or no value)\n",
    "1. The empty text `\"\"`\n",
    "2. The empty list `[]`\n",
    "3. The empty tuple `()`\n",
    "4. The empty dictionary `{}`\n",
    "5. The empty set `set()`\n",
    "6.  The empty range `range(0)` -->"
   ]
  },
  {
   "cell_type": "code",
   "execution_count": 26,
   "metadata": {},
   "outputs": [
    {
     "name": "stdout",
     "output_type": "stream",
     "text": [
      "other\n"
     ]
    }
   ],
   "source": [
    "# print(False)\n",
    "num = range(0)\n",
    "# if (False == num):\n",
    "if False == num:         #you can put parenthesis around condition, but it is OK if you dont\n",
    "    print(\"False\")\n",
    "elif True == num:\n",
    "    print(\"True\")\n",
    "else:\n",
    "    print(\"other\")\n"
   ]
  },
  {
   "cell_type": "code",
   "execution_count": 37,
   "metadata": {},
   "outputs": [
    {
     "name": "stdout",
     "output_type": "stream",
     "text": [
      "The number 23 id odd\n",
      "Bye\n"
     ]
    }
   ],
   "source": [
    "# Take input from user and tell wether this number is even or odd\n",
    "num = int(input(\"Please enter a digit greater than zero\"))\n",
    "# by default the type returned by input() is string, so don't forget to type cast it\n",
    "# print(num)\n",
    "if num < 1 or num > 1000:\n",
    "    print(\"Please enter valid data\")\n",
    "elif num%2 == 0:\n",
    "    print(\"The number {} is even\".format(num))\n",
    "\n",
    "else:\n",
    "    print(\"The number {} id odd\".format(num))\n",
    "print(\"Bye\")"
   ]
  },
  {
   "attachments": {},
   "cell_type": "markdown",
   "metadata": {},
   "source": [
    "#### Python Ternary Opertor\n",
    "- It simply allows testing a condition in a single line replacing the multiline if-else making the code compact.\n",
    "- Syntax : `[on_true] if [condition] else [on_false]`"
   ]
  },
  {
   "cell_type": "code",
   "execution_count": 45,
   "metadata": {},
   "outputs": [
    {
     "name": "stdout",
     "output_type": "stream",
     "text": [
      "The number 1 is Odd\n"
     ]
    }
   ],
   "source": [
    "num = 1\n",
    "rv = \"Invalid data\" if num < 1 or num > 1000 else (\"Even\" if num%2 == 0 else \"Odd\")\n",
    "print(\"The number {0} is {1}\".format(num, rv))\n",
    "# if num < 1 or num > 1000:\n",
    "#     print(\"Please enter valid data\")\n",
    "# elif num%2 == 0:\n",
    "#     print(\"The number {} is even\".format(num))\n",
    "\n",
    "# else:\n",
    "#     print(\"The number {} id odd\".format(num))\n",
    "# print(\"Bye\")"
   ]
  },
  {
   "cell_type": "code",
   "execution_count": 50,
   "metadata": {},
   "outputs": [],
   "source": [
    "# Example:\n",
    "age = float(input(\"Please enter your age: \"))\n",
    "# result = (rv = input(\"Do you have National ID card? Y/N: \") if age >= 18 else \"You are too young to vote\" (\"Welcome, you can vote\" if (rv == 'Y') or (rv == 'y') else \"Since you donot have CNIC, so you cannot vote.\" ))\n",
    "# print(result)\n",
    "if (age >= 18):\n",
    "    rv = input(\"Do you have National ID card? Y/N: \")\n",
    "    if ((rv == 'Y') or (rv == 'y')):\n",
    "        print(\"Welcome, you can vote\")\n",
    "    else:\n",
    "        print(\"Since you donot have CNIC, so you cannot vote.\")\n",
    "else:\n",
    "    print(\"You are too young to vote\")"
   ]
  },
  {
   "attachments": {},
   "cell_type": "markdown",
   "metadata": {},
   "source": [
    "#### Pass Statement\n",
    "- The pass statement is used as a placeholder for future code.\n",
    "- When the pass statement is executed, nothing happens, but you avoid getting an error when empty code is not allowed.\n",
    "- Empty code is not allowed in loops, function definitions, class definitions, or in if statements."
   ]
  },
  {
   "cell_type": "code",
   "execution_count": 5,
   "metadata": {},
   "outputs": [],
   "source": [
    "number = float(input(\"Please enter your marks\"))\n",
    "if number > 80 and number <90:\n",
    "    print(\"A\")\n",
    "elif number > 90 and number <100:\n",
    "    pass\n",
    "elif number > 70 and number <80:\n",
    "    print(\"B\")\n",
    "else:\n",
    "    print(\"No grade\")\n"
   ]
  }
 ],
 "metadata": {
  "kernelspec": {
   "display_name": "Python 3",
   "language": "python",
   "name": "python3"
  },
  "language_info": {
   "codemirror_mode": {
    "name": "ipython",
    "version": 3
   },
   "file_extension": ".py",
   "mimetype": "text/x-python",
   "name": "python",
   "nbconvert_exporter": "python",
   "pygments_lexer": "ipython3",
   "version": "3.10.8"
  },
  "orig_nbformat": 4,
  "vscode": {
   "interpreter": {
    "hash": "c938f314aa5630f5fcf3b4aad588f4edd0dbe140357325e666a8226cee1b2bf6"
   }
  }
 },
 "nbformat": 4,
 "nbformat_minor": 2
}
